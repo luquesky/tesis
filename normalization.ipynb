{
 "metadata": {
  "name": "",
  "signature": "sha256:671f69ae35a49105d6cff99d8b034deda138a6b65a9b69cff78b47a6aea85f86"
 },
 "nbformat": 3,
 "nbformat_minor": 0,
 "worksheets": [
  {
   "cells": [
    {
     "cell_type": "code",
     "collapsed": false,
     "input": [
      "%matplotlib inline\n",
      "import math\n",
      "import matplotlib.patches as mpatches\n",
      "import config\n",
      "from sympy import Interval\n",
      "from session import SessionMapper\n",
      "from tama import tama, tama_standard_error\n",
      "import pandas as pd\n",
      "\n",
      "\n",
      "mapper = SessionMapper()\n",
      "\n",
      "sessions = []\n",
      "\n",
      "def load_session(session_number):\n",
      "    num = str(session_number).zfill(2)\n",
      "    name = \"session-%s\" % num\n",
      "    tasks_path = \"data/games-corpus/session_%s/s%s.objects.1.tasks\" % (num, num)\n",
      "    \n",
      "    return mapper.fetch(tasks_path, name=name)\n",
      "\n",
      "session = load_session(2)"
     ],
     "language": "python",
     "metadata": {},
     "outputs": [
      {
       "output_type": "stream",
       "stream": "stderr",
       "text": [
        "Pickle not found. Building from scratch\n"
       ]
      },
      {
       "output_type": "stream",
       "stream": "stderr",
       "text": [
        "INFO:main:Pickle not found. Building from scratch\n"
       ]
      }
     ],
     "prompt_number": 1
    },
    {
     "cell_type": "raw",
     "metadata": {},
     "source": [
      "Hagamos los time plots para las tareas que pasen el threshold"
     ]
    },
    {
     "cell_type": "code",
     "collapsed": false,
     "input": [
      "\n",
      "task = session.tasks[7]\n",
      "speech = task.speechA"
     ],
     "language": "python",
     "metadata": {},
     "outputs": [],
     "prompt_number": 2
    },
    {
     "cell_type": "code",
     "collapsed": false,
     "input": [
      "speech.get_features(speech.interval)"
     ],
     "language": "python",
     "metadata": {},
     "outputs": [
      {
       "output_type": "stream",
       "stream": "stderr",
       "text": [
        "#() has no defined phonemes. Defaulting to 0\n"
       ]
      },
      {
       "output_type": "stream",
       "stream": "stderr",
       "text": [
        "WARNING:main:#() has no defined phonemes. Defaulting to 0\n"
       ]
      },
      {
       "output_type": "stream",
       "stream": "stderr",
       "text": [
        "#() has no defined phonemes. Defaulting to 0\n"
       ]
      },
      {
       "output_type": "stream",
       "stream": "stderr",
       "text": [
        "WARNING:main:#() has no defined phonemes. Defaulting to 0\n"
       ]
      },
      {
       "output_type": "stream",
       "stream": "stderr",
       "text": [
        "#() has no defined phonemes. Defaulting to 0\n"
       ]
      },
      {
       "output_type": "stream",
       "stream": "stderr",
       "text": [
        "WARNING:main:#() has no defined phonemes. Defaulting to 0\n"
       ]
      },
      {
       "output_type": "stream",
       "stream": "stderr",
       "text": [
        "#() has no defined phonemes. Defaulting to 0\n"
       ]
      },
      {
       "output_type": "stream",
       "stream": "stderr",
       "text": [
        "WARNING:main:#() has no defined phonemes. Defaulting to 0\n"
       ]
      },
      {
       "output_type": "stream",
       "stream": "stderr",
       "text": [
        "#() has no defined phonemes. Defaulting to 0\n"
       ]
      },
      {
       "output_type": "stream",
       "stream": "stderr",
       "text": [
        "WARNING:main:#() has no defined phonemes. Defaulting to 0\n"
       ]
      },
      {
       "output_type": "stream",
       "stream": "stderr",
       "text": [
        "#() has no defined phonemes. Defaulting to 0\n"
       ]
      },
      {
       "output_type": "stream",
       "stream": "stderr",
       "text": [
        "WARNING:main:#() has no defined phonemes. Defaulting to 0\n"
       ]
      },
      {
       "output_type": "stream",
       "stream": "stderr",
       "text": [
        "#() has no defined phonemes. Defaulting to 0\n"
       ]
      },
      {
       "output_type": "stream",
       "stream": "stderr",
       "text": [
        "WARNING:main:#() has no defined phonemes. Defaulting to 0\n"
       ]
      },
      {
       "output_type": "stream",
       "stream": "stderr",
       "text": [
        "#() has no defined phonemes. Defaulting to 0\n"
       ]
      },
      {
       "output_type": "stream",
       "stream": "stderr",
       "text": [
        "WARNING:main:#() has no defined phonemes. Defaulting to 0\n"
       ]
      },
      {
       "output_type": "stream",
       "stream": "stderr",
       "text": [
        "#() has no defined phonemes. Defaulting to 0\n"
       ]
      },
      {
       "output_type": "stream",
       "stream": "stderr",
       "text": [
        "WARNING:main:#() has no defined phonemes. Defaulting to 0\n"
       ]
      },
      {
       "output_type": "stream",
       "stream": "stderr",
       "text": [
        "#() has no defined phonemes. Defaulting to 0\n"
       ]
      },
      {
       "output_type": "stream",
       "stream": "stderr",
       "text": [
        "WARNING:main:#() has no defined phonemes. Defaulting to 0\n"
       ]
      },
      {
       "output_type": "stream",
       "stream": "stderr",
       "text": [
        "#() has no defined phonemes. Defaulting to 0\n"
       ]
      },
      {
       "output_type": "stream",
       "stream": "stderr",
       "text": [
        "WARNING:main:#() has no defined phonemes. Defaulting to 0\n"
       ]
      },
      {
       "output_type": "stream",
       "stream": "stderr",
       "text": [
        "#() has no defined phonemes. Defaulting to 0\n"
       ]
      },
      {
       "output_type": "stream",
       "stream": "stderr",
       "text": [
        "WARNING:main:#() has no defined phonemes. Defaulting to 0\n"
       ]
      },
      {
       "output_type": "stream",
       "stream": "stderr",
       "text": [
        "#() has no defined phonemes. Defaulting to 0\n"
       ]
      },
      {
       "output_type": "stream",
       "stream": "stderr",
       "text": [
        "WARNING:main:#() has no defined phonemes. Defaulting to 0\n"
       ]
      },
      {
       "output_type": "stream",
       "stream": "stderr",
       "text": [
        "#() has no defined phonemes. Defaulting to 0\n"
       ]
      },
      {
       "output_type": "stream",
       "stream": "stderr",
       "text": [
        "WARNING:main:#() has no defined phonemes. Defaulting to 0\n"
       ]
      },
      {
       "output_type": "stream",
       "stream": "stderr",
       "text": [
        "#() has no defined phonemes. Defaulting to 0\n"
       ]
      },
      {
       "output_type": "stream",
       "stream": "stderr",
       "text": [
        "WARNING:main:#() has no defined phonemes. Defaulting to 0\n"
       ]
      },
      {
       "output_type": "stream",
       "stream": "stderr",
       "text": [
        "#() has no defined phonemes. Defaulting to 0\n"
       ]
      },
      {
       "output_type": "stream",
       "stream": "stderr",
       "text": [
        "WARNING:main:#() has no defined phonemes. Defaulting to 0\n"
       ]
      },
      {
       "output_type": "stream",
       "stream": "stderr",
       "text": [
        "#() has no defined phonemes. Defaulting to 0\n"
       ]
      },
      {
       "output_type": "stream",
       "stream": "stderr",
       "text": [
        "WARNING:main:#() has no defined phonemes. Defaulting to 0\n"
       ]
      },
      {
       "output_type": "stream",
       "stream": "stderr",
       "text": [
        "#() has no defined phonemes. Defaulting to 0\n"
       ]
      },
      {
       "output_type": "stream",
       "stream": "stderr",
       "text": [
        "WARNING:main:#() has no defined phonemes. Defaulting to 0\n"
       ]
      },
      {
       "output_type": "stream",
       "stream": "stderr",
       "text": [
        "#() has no defined phonemes. Defaulting to 0\n"
       ]
      },
      {
       "output_type": "stream",
       "stream": "stderr",
       "text": [
        "WARNING:main:#() has no defined phonemes. Defaulting to 0\n"
       ]
      },
      {
       "output_type": "stream",
       "stream": "stderr",
       "text": [
        "#() has no defined phonemes. Defaulting to 0\n"
       ]
      },
      {
       "output_type": "stream",
       "stream": "stderr",
       "text": [
        "WARNING:main:#() has no defined phonemes. Defaulting to 0\n"
       ]
      },
      {
       "output_type": "stream",
       "stream": "stderr",
       "text": [
        "#() has no defined phonemes. Defaulting to 0\n"
       ]
      },
      {
       "output_type": "stream",
       "stream": "stderr",
       "text": [
        "WARNING:main:#() has no defined phonemes. Defaulting to 0\n"
       ]
      },
      {
       "output_type": "stream",
       "stream": "stderr",
       "text": [
        "#() has no defined phonemes. Defaulting to 0\n"
       ]
      },
      {
       "output_type": "stream",
       "stream": "stderr",
       "text": [
        "WARNING:main:#() has no defined phonemes. Defaulting to 0\n"
       ]
      },
      {
       "output_type": "stream",
       "stream": "stderr",
       "text": [
        "#() has no defined phonemes. Defaulting to 0\n"
       ]
      },
      {
       "output_type": "stream",
       "stream": "stderr",
       "text": [
        "WARNING:main:#() has no defined phonemes. Defaulting to 0\n"
       ]
      },
      {
       "output_type": "stream",
       "stream": "stderr",
       "text": [
        "#() has no defined phonemes. Defaulting to 0\n"
       ]
      },
      {
       "output_type": "stream",
       "stream": "stderr",
       "text": [
        "WARNING:main:#() has no defined phonemes. Defaulting to 0\n"
       ]
      },
      {
       "output_type": "stream",
       "stream": "stderr",
       "text": [
        "#() has no defined phonemes. Defaulting to 0\n"
       ]
      },
      {
       "output_type": "stream",
       "stream": "stderr",
       "text": [
        "WARNING:main:#() has no defined phonemes. Defaulting to 0\n"
       ]
      },
      {
       "output_type": "stream",
       "stream": "stderr",
       "text": [
        "#() has no defined phonemes. Defaulting to 0\n"
       ]
      },
      {
       "output_type": "stream",
       "stream": "stderr",
       "text": [
        "WARNING:main:#() has no defined phonemes. Defaulting to 0\n"
       ]
      },
      {
       "output_type": "stream",
       "stream": "stderr",
       "text": [
        "#() has no defined phonemes. Defaulting to 0\n"
       ]
      },
      {
       "output_type": "stream",
       "stream": "stderr",
       "text": [
        "WARNING:main:#() has no defined phonemes. Defaulting to 0\n"
       ]
      },
      {
       "output_type": "stream",
       "stream": "stderr",
       "text": [
        "#() has no defined phonemes. Defaulting to 0\n"
       ]
      },
      {
       "output_type": "stream",
       "stream": "stderr",
       "text": [
        "WARNING:main:#() has no defined phonemes. Defaulting to 0\n"
       ]
      },
      {
       "output_type": "stream",
       "stream": "stderr",
       "text": [
        "#() has no defined phonemes. Defaulting to 0\n"
       ]
      },
      {
       "output_type": "stream",
       "stream": "stderr",
       "text": [
        "WARNING:main:#() has no defined phonemes. Defaulting to 0\n"
       ]
      },
      {
       "output_type": "stream",
       "stream": "stderr",
       "text": [
        "#() has no defined phonemes. Defaulting to 0\n"
       ]
      },
      {
       "output_type": "stream",
       "stream": "stderr",
       "text": [
        "WARNING:main:#() has no defined phonemes. Defaulting to 0\n"
       ]
      },
      {
       "output_type": "stream",
       "stream": "stderr",
       "text": [
        "#() has no defined phonemes. Defaulting to 0\n"
       ]
      },
      {
       "output_type": "stream",
       "stream": "stderr",
       "text": [
        "WARNING:main:#() has no defined phonemes. Defaulting to 0\n"
       ]
      },
      {
       "output_type": "stream",
       "stream": "stderr",
       "text": [
        "#() has no defined phonemes. Defaulting to 0\n"
       ]
      },
      {
       "output_type": "stream",
       "stream": "stderr",
       "text": [
        "WARNING:main:#() has no defined phonemes. Defaulting to 0\n"
       ]
      },
      {
       "output_type": "stream",
       "stream": "stderr",
       "text": [
        "#() has no defined phonemes. Defaulting to 0\n"
       ]
      },
      {
       "output_type": "stream",
       "stream": "stderr",
       "text": [
        "WARNING:main:#() has no defined phonemes. Defaulting to 0\n"
       ]
      },
      {
       "output_type": "stream",
       "stream": "stderr",
       "text": [
        "#() has no defined phonemes. Defaulting to 0\n"
       ]
      },
      {
       "output_type": "stream",
       "stream": "stderr",
       "text": [
        "WARNING:main:#() has no defined phonemes. Defaulting to 0\n"
       ]
      },
      {
       "output_type": "stream",
       "stream": "stderr",
       "text": [
        "#() has no defined phonemes. Defaulting to 0\n"
       ]
      },
      {
       "output_type": "stream",
       "stream": "stderr",
       "text": [
        "WARNING:main:#() has no defined phonemes. Defaulting to 0\n"
       ]
      },
      {
       "output_type": "stream",
       "stream": "stderr",
       "text": [
        "#() has no defined phonemes. Defaulting to 0\n"
       ]
      },
      {
       "output_type": "stream",
       "stream": "stderr",
       "text": [
        "WARNING:main:#() has no defined phonemes. Defaulting to 0\n"
       ]
      },
      {
       "output_type": "stream",
       "stream": "stderr",
       "text": [
        "#() has no defined phonemes. Defaulting to 0\n"
       ]
      },
      {
       "output_type": "stream",
       "stream": "stderr",
       "text": [
        "WARNING:main:#() has no defined phonemes. Defaulting to 0\n"
       ]
      },
      {
       "output_type": "stream",
       "stream": "stderr",
       "text": [
        "#() has no defined phonemes. Defaulting to 0\n"
       ]
      },
      {
       "output_type": "stream",
       "stream": "stderr",
       "text": [
        "WARNING:main:#() has no defined phonemes. Defaulting to 0\n"
       ]
      },
      {
       "output_type": "stream",
       "stream": "stderr",
       "text": [
        "#() has no defined phonemes. Defaulting to 0\n"
       ]
      },
      {
       "output_type": "stream",
       "stream": "stderr",
       "text": [
        "WARNING:main:#() has no defined phonemes. Defaulting to 0\n"
       ]
      },
      {
       "output_type": "stream",
       "stream": "stderr",
       "text": [
        "#() has no defined phonemes. Defaulting to 0\n"
       ]
      },
      {
       "output_type": "stream",
       "stream": "stderr",
       "text": [
        "WARNING:main:#() has no defined phonemes. Defaulting to 0\n"
       ]
      },
      {
       "output_type": "stream",
       "stream": "stderr",
       "text": [
        "#() has no defined phonemes. Defaulting to 0\n"
       ]
      },
      {
       "output_type": "stream",
       "stream": "stderr",
       "text": [
        "WARNING:main:#() has no defined phonemes. Defaulting to 0\n"
       ]
      },
      {
       "output_type": "stream",
       "stream": "stderr",
       "text": [
        "#() has no defined phonemes. Defaulting to 0\n"
       ]
      },
      {
       "output_type": "stream",
       "stream": "stderr",
       "text": [
        "WARNING:main:#() has no defined phonemes. Defaulting to 0\n"
       ]
      },
      {
       "output_type": "stream",
       "stream": "stderr",
       "text": [
        "#() has no defined phonemes. Defaulting to 0\n"
       ]
      },
      {
       "output_type": "stream",
       "stream": "stderr",
       "text": [
        "WARNING:main:#() has no defined phonemes. Defaulting to 0\n"
       ]
      },
      {
       "output_type": "stream",
       "stream": "stderr",
       "text": [
        "#() has no defined phonemes. Defaulting to 0\n"
       ]
      },
      {
       "output_type": "stream",
       "stream": "stderr",
       "text": [
        "WARNING:main:#() has no defined phonemes. Defaulting to 0\n"
       ]
      },
      {
       "output_type": "stream",
       "stream": "stderr",
       "text": [
        "#() has no defined phonemes. Defaulting to 0\n"
       ]
      },
      {
       "output_type": "stream",
       "stream": "stderr",
       "text": [
        "WARNING:main:#() has no defined phonemes. Defaulting to 0\n"
       ]
      },
      {
       "output_type": "stream",
       "stream": "stderr",
       "text": [
        "#() has no defined phonemes. Defaulting to 0\n"
       ]
      },
      {
       "output_type": "stream",
       "stream": "stderr",
       "text": [
        "WARNING:main:#() has no defined phonemes. Defaulting to 0\n"
       ]
      },
      {
       "output_type": "stream",
       "stream": "stderr",
       "text": [
        "#() has no defined phonemes. Defaulting to 0\n"
       ]
      },
      {
       "output_type": "stream",
       "stream": "stderr",
       "text": [
        "WARNING:main:#() has no defined phonemes. Defaulting to 0\n"
       ]
      },
      {
       "output_type": "stream",
       "stream": "stderr",
       "text": [
        "#() has no defined phonemes. Defaulting to 0\n"
       ]
      },
      {
       "output_type": "stream",
       "stream": "stderr",
       "text": [
        "WARNING:main:#() has no defined phonemes. Defaulting to 0\n"
       ]
      },
      {
       "output_type": "stream",
       "stream": "stderr",
       "text": [
        "#() has no defined phonemes. Defaulting to 0\n"
       ]
      },
      {
       "output_type": "stream",
       "stream": "stderr",
       "text": [
        "WARNING:main:#() has no defined phonemes. Defaulting to 0\n"
       ]
      },
      {
       "output_type": "stream",
       "stream": "stderr",
       "text": [
        "#() has no defined phonemes. Defaulting to 0\n"
       ]
      },
      {
       "output_type": "stream",
       "stream": "stderr",
       "text": [
        "WARNING:main:#() has no defined phonemes. Defaulting to 0\n"
       ]
      },
      {
       "output_type": "stream",
       "stream": "stderr",
       "text": [
        "#() has no defined phonemes. Defaulting to 0\n"
       ]
      },
      {
       "output_type": "stream",
       "stream": "stderr",
       "text": [
        "WARNING:main:#() has no defined phonemes. Defaulting to 0\n"
       ]
      },
      {
       "output_type": "stream",
       "stream": "stderr",
       "text": [
        "#() has no defined phonemes. Defaulting to 0\n"
       ]
      },
      {
       "output_type": "stream",
       "stream": "stderr",
       "text": [
        "WARNING:main:#() has no defined phonemes. Defaulting to 0\n"
       ]
      },
      {
       "output_type": "stream",
       "stream": "stderr",
       "text": [
        "#() has no defined phonemes. Defaulting to 0\n"
       ]
      },
      {
       "output_type": "stream",
       "stream": "stderr",
       "text": [
        "WARNING:main:#() has no defined phonemes. Defaulting to 0\n"
       ]
      },
      {
       "output_type": "stream",
       "stream": "stderr",
       "text": [
        "#() has no defined phonemes. Defaulting to 0\n"
       ]
      },
      {
       "output_type": "stream",
       "stream": "stderr",
       "text": [
        "WARNING:main:#() has no defined phonemes. Defaulting to 0\n"
       ]
      },
      {
       "output_type": "stream",
       "stream": "stderr",
       "text": [
        "#() has no defined phonemes. Defaulting to 0\n"
       ]
      },
      {
       "output_type": "stream",
       "stream": "stderr",
       "text": [
        "WARNING:main:#() has no defined phonemes. Defaulting to 0\n"
       ]
      },
      {
       "output_type": "stream",
       "stream": "stderr",
       "text": [
        "#() has no defined phonemes. Defaulting to 0\n"
       ]
      },
      {
       "output_type": "stream",
       "stream": "stderr",
       "text": [
        "WARNING:main:#() has no defined phonemes. Defaulting to 0\n"
       ]
      },
      {
       "output_type": "stream",
       "stream": "stderr",
       "text": [
        "#() has no defined phonemes. Defaulting to 0\n"
       ]
      },
      {
       "output_type": "stream",
       "stream": "stderr",
       "text": [
        "WARNING:main:#() has no defined phonemes. Defaulting to 0\n"
       ]
      },
      {
       "output_type": "stream",
       "stream": "stderr",
       "text": [
        "#() has no defined phonemes. Defaulting to 0\n"
       ]
      },
      {
       "output_type": "stream",
       "stream": "stderr",
       "text": [
        "WARNING:main:#() has no defined phonemes. Defaulting to 0\n"
       ]
      },
      {
       "output_type": "stream",
       "stream": "stderr",
       "text": [
        "#() has no defined phonemes. Defaulting to 0\n"
       ]
      },
      {
       "output_type": "stream",
       "stream": "stderr",
       "text": [
        "WARNING:main:#() has no defined phonemes. Defaulting to 0\n"
       ]
      },
      {
       "output_type": "stream",
       "stream": "stderr",
       "text": [
        "#() has no defined phonemes. Defaulting to 0\n"
       ]
      },
      {
       "output_type": "stream",
       "stream": "stderr",
       "text": [
        "WARNING:main:#() has no defined phonemes. Defaulting to 0\n"
       ]
      },
      {
       "output_type": "stream",
       "stream": "stderr",
       "text": [
        "#() has no defined phonemes. Defaulting to 0\n"
       ]
      },
      {
       "output_type": "stream",
       "stream": "stderr",
       "text": [
        "WARNING:main:#() has no defined phonemes. Defaulting to 0\n"
       ]
      },
      {
       "output_type": "stream",
       "stream": "stderr",
       "text": [
        "#() has no defined phonemes. Defaulting to 0\n"
       ]
      },
      {
       "output_type": "stream",
       "stream": "stderr",
       "text": [
        "WARNING:main:#() has no defined phonemes. Defaulting to 0\n"
       ]
      },
      {
       "output_type": "stream",
       "stream": "stderr",
       "text": [
        "#() has no defined phonemes. Defaulting to 0\n"
       ]
      },
      {
       "output_type": "stream",
       "stream": "stderr",
       "text": [
        "WARNING:main:#() has no defined phonemes. Defaulting to 0\n"
       ]
      },
      {
       "output_type": "stream",
       "stream": "stderr",
       "text": [
        "#() has no defined phonemes. Defaulting to 0\n"
       ]
      },
      {
       "output_type": "stream",
       "stream": "stderr",
       "text": [
        "WARNING:main:#() has no defined phonemes. Defaulting to 0\n"
       ]
      },
      {
       "output_type": "stream",
       "stream": "stderr",
       "text": [
        "#() has no defined phonemes. Defaulting to 0\n"
       ]
      },
      {
       "output_type": "stream",
       "stream": "stderr",
       "text": [
        "WARNING:main:#() has no defined phonemes. Defaulting to 0\n"
       ]
      },
      {
       "output_type": "stream",
       "stream": "stderr",
       "text": [
        "#() has no defined phonemes. Defaulting to 0\n"
       ]
      },
      {
       "output_type": "stream",
       "stream": "stderr",
       "text": [
        "WARNING:main:#() has no defined phonemes. Defaulting to 0\n"
       ]
      },
      {
       "output_type": "stream",
       "stream": "stderr",
       "text": [
        "#() has no defined phonemes. Defaulting to 0\n"
       ]
      },
      {
       "output_type": "stream",
       "stream": "stderr",
       "text": [
        "WARNING:main:#() has no defined phonemes. Defaulting to 0\n"
       ]
      },
      {
       "output_type": "stream",
       "stream": "stderr",
       "text": [
        "#() has no defined phonemes. Defaulting to 0\n"
       ]
      },
      {
       "output_type": "stream",
       "stream": "stderr",
       "text": [
        "WARNING:main:#() has no defined phonemes. Defaulting to 0\n"
       ]
      },
      {
       "output_type": "stream",
       "stream": "stderr",
       "text": [
        "#() has no defined phonemes. Defaulting to 0\n"
       ]
      },
      {
       "output_type": "stream",
       "stream": "stderr",
       "text": [
        "WARNING:main:#() has no defined phonemes. Defaulting to 0\n"
       ]
      },
      {
       "output_type": "stream",
       "stream": "stderr",
       "text": [
        "#() has no defined phonemes. Defaulting to 0\n"
       ]
      },
      {
       "output_type": "stream",
       "stream": "stderr",
       "text": [
        "WARNING:main:#() has no defined phonemes. Defaulting to 0\n"
       ]
      },
      {
       "output_type": "stream",
       "stream": "stderr",
       "text": [
        "#() has no defined phonemes. Defaulting to 0\n"
       ]
      },
      {
       "output_type": "stream",
       "stream": "stderr",
       "text": [
        "WARNING:main:#() has no defined phonemes. Defaulting to 0\n"
       ]
      },
      {
       "output_type": "stream",
       "stream": "stderr",
       "text": [
        "#() has no defined phonemes. Defaulting to 0\n"
       ]
      },
      {
       "output_type": "stream",
       "stream": "stderr",
       "text": [
        "WARNING:main:#() has no defined phonemes. Defaulting to 0\n"
       ]
      },
      {
       "output_type": "stream",
       "stream": "stderr",
       "text": [
        "#() has no defined phonemes. Defaulting to 0\n"
       ]
      },
      {
       "output_type": "stream",
       "stream": "stderr",
       "text": [
        "WARNING:main:#() has no defined phonemes. Defaulting to 0\n"
       ]
      },
      {
       "output_type": "stream",
       "stream": "stderr",
       "text": [
        "#() has no defined phonemes. Defaulting to 0\n"
       ]
      },
      {
       "output_type": "stream",
       "stream": "stderr",
       "text": [
        "WARNING:main:#() has no defined phonemes. Defaulting to 0\n"
       ]
      },
      {
       "output_type": "stream",
       "stream": "stderr",
       "text": [
        "#() has no defined phonemes. Defaulting to 0\n"
       ]
      },
      {
       "output_type": "stream",
       "stream": "stderr",
       "text": [
        "WARNING:main:#() has no defined phonemes. Defaulting to 0\n"
       ]
      },
      {
       "output_type": "stream",
       "stream": "stderr",
       "text": [
        "#() has no defined phonemes. Defaulting to 0\n"
       ]
      },
      {
       "output_type": "stream",
       "stream": "stderr",
       "text": [
        "WARNING:main:#() has no defined phonemes. Defaulting to 0\n"
       ]
      },
      {
       "output_type": "stream",
       "stream": "stderr",
       "text": [
        "#() has no defined phonemes. Defaulting to 0\n"
       ]
      },
      {
       "output_type": "stream",
       "stream": "stderr",
       "text": [
        "WARNING:main:#() has no defined phonemes. Defaulting to 0\n"
       ]
      },
      {
       "output_type": "stream",
       "stream": "stderr",
       "text": [
        "#() has no defined phonemes. Defaulting to 0\n"
       ]
      },
      {
       "output_type": "stream",
       "stream": "stderr",
       "text": [
        "WARNING:main:#() has no defined phonemes. Defaulting to 0\n"
       ]
      },
      {
       "output_type": "stream",
       "stream": "stderr",
       "text": [
        "#() has no defined phonemes. Defaulting to 0\n"
       ]
      },
      {
       "output_type": "stream",
       "stream": "stderr",
       "text": [
        "WARNING:main:#() has no defined phonemes. Defaulting to 0\n"
       ]
      },
      {
       "output_type": "stream",
       "stream": "stderr",
       "text": [
        "#() has no defined phonemes. Defaulting to 0\n"
       ]
      },
      {
       "output_type": "stream",
       "stream": "stderr",
       "text": [
        "WARNING:main:#() has no defined phonemes. Defaulting to 0\n"
       ]
      },
      {
       "output_type": "stream",
       "stream": "stderr",
       "text": [
        "#() has no defined phonemes. Defaulting to 0\n"
       ]
      },
      {
       "output_type": "stream",
       "stream": "stderr",
       "text": [
        "WARNING:main:#() has no defined phonemes. Defaulting to 0\n"
       ]
      },
      {
       "output_type": "stream",
       "stream": "stderr",
       "text": [
        "#() has no defined phonemes. Defaulting to 0\n"
       ]
      },
      {
       "output_type": "stream",
       "stream": "stderr",
       "text": [
        "WARNING:main:#() has no defined phonemes. Defaulting to 0\n"
       ]
      },
      {
       "output_type": "stream",
       "stream": "stderr",
       "text": [
        "#() has no defined phonemes. Defaulting to 0\n"
       ]
      },
      {
       "output_type": "stream",
       "stream": "stderr",
       "text": [
        "WARNING:main:#() has no defined phonemes. Defaulting to 0\n"
       ]
      },
      {
       "output_type": "stream",
       "stream": "stderr",
       "text": [
        "#() has no defined phonemes. Defaulting to 0\n"
       ]
      },
      {
       "output_type": "stream",
       "stream": "stderr",
       "text": [
        "WARNING:main:#() has no defined phonemes. Defaulting to 0\n"
       ]
      },
      {
       "output_type": "stream",
       "stream": "stderr",
       "text": [
        "#() has no defined phonemes. Defaulting to 0\n"
       ]
      },
      {
       "output_type": "stream",
       "stream": "stderr",
       "text": [
        "WARNING:main:#() has no defined phonemes. Defaulting to 0\n"
       ]
      },
      {
       "output_type": "stream",
       "stream": "stderr",
       "text": [
        "#() has no defined phonemes. Defaulting to 0\n"
       ]
      },
      {
       "output_type": "stream",
       "stream": "stderr",
       "text": [
        "WARNING:main:#() has no defined phonemes. Defaulting to 0\n"
       ]
      },
      {
       "output_type": "stream",
       "stream": "stderr",
       "text": [
        "#() has no defined phonemes. Defaulting to 0\n"
       ]
      },
      {
       "output_type": "stream",
       "stream": "stderr",
       "text": [
        "WARNING:main:#() has no defined phonemes. Defaulting to 0\n"
       ]
      },
      {
       "output_type": "stream",
       "stream": "stderr",
       "text": [
        "#() has no defined phonemes. Defaulting to 0\n"
       ]
      },
      {
       "output_type": "stream",
       "stream": "stderr",
       "text": [
        "WARNING:main:#() has no defined phonemes. Defaulting to 0\n"
       ]
      },
      {
       "output_type": "stream",
       "stream": "stderr",
       "text": [
        "#() has no defined phonemes. Defaulting to 0\n"
       ]
      },
      {
       "output_type": "stream",
       "stream": "stderr",
       "text": [
        "WARNING:main:#() has no defined phonemes. Defaulting to 0\n"
       ]
      },
      {
       "output_type": "stream",
       "stream": "stderr",
       "text": [
        "#() has no defined phonemes. Defaulting to 0\n"
       ]
      },
      {
       "output_type": "stream",
       "stream": "stderr",
       "text": [
        "WARNING:main:#() has no defined phonemes. Defaulting to 0\n"
       ]
      },
      {
       "output_type": "stream",
       "stream": "stderr",
       "text": [
        "#() has no defined phonemes. Defaulting to 0\n"
       ]
      },
      {
       "output_type": "stream",
       "stream": "stderr",
       "text": [
        "WARNING:main:#() has no defined phonemes. Defaulting to 0\n"
       ]
      },
      {
       "output_type": "stream",
       "stream": "stderr",
       "text": [
        "#() has no defined phonemes. Defaulting to 0\n"
       ]
      },
      {
       "output_type": "stream",
       "stream": "stderr",
       "text": [
        "WARNING:main:#() has no defined phonemes. Defaulting to 0\n"
       ]
      },
      {
       "output_type": "stream",
       "stream": "stderr",
       "text": [
        "#() has no defined phonemes. Defaulting to 0\n"
       ]
      },
      {
       "output_type": "stream",
       "stream": "stderr",
       "text": [
        "WARNING:main:#() has no defined phonemes. Defaulting to 0\n"
       ]
      },
      {
       "output_type": "stream",
       "stream": "stderr",
       "text": [
        "#() has no defined phonemes. Defaulting to 0\n"
       ]
      },
      {
       "output_type": "stream",
       "stream": "stderr",
       "text": [
        "WARNING:main:#() has no defined phonemes. Defaulting to 0\n"
       ]
      },
      {
       "output_type": "stream",
       "stream": "stderr",
       "text": [
        "#() has no defined phonemes. Defaulting to 0\n"
       ]
      },
      {
       "output_type": "stream",
       "stream": "stderr",
       "text": [
        "WARNING:main:#() has no defined phonemes. Defaulting to 0\n"
       ]
      },
      {
       "output_type": "stream",
       "stream": "stderr",
       "text": [
        "#() has no defined phonemes. Defaulting to 0\n"
       ]
      },
      {
       "output_type": "stream",
       "stream": "stderr",
       "text": [
        "WARNING:main:#() has no defined phonemes. Defaulting to 0\n"
       ]
      },
      {
       "output_type": "stream",
       "stream": "stderr",
       "text": [
        "#() has no defined phonemes. Defaulting to 0\n"
       ]
      },
      {
       "output_type": "stream",
       "stream": "stderr",
       "text": [
        "WARNING:main:#() has no defined phonemes. Defaulting to 0\n"
       ]
      },
      {
       "output_type": "stream",
       "stream": "stderr",
       "text": [
        "#() has no defined phonemes. Defaulting to 0\n"
       ]
      },
      {
       "output_type": "stream",
       "stream": "stderr",
       "text": [
        "WARNING:main:#() has no defined phonemes. Defaulting to 0\n"
       ]
      },
      {
       "output_type": "stream",
       "stream": "stderr",
       "text": [
        "#() has no defined phonemes. Defaulting to 0\n"
       ]
      },
      {
       "output_type": "stream",
       "stream": "stderr",
       "text": [
        "WARNING:main:#() has no defined phonemes. Defaulting to 0\n"
       ]
      },
      {
       "output_type": "stream",
       "stream": "stderr",
       "text": [
        "#() has no defined phonemes. Defaulting to 0\n"
       ]
      },
      {
       "output_type": "stream",
       "stream": "stderr",
       "text": [
        "WARNING:main:#() has no defined phonemes. Defaulting to 0\n"
       ]
      },
      {
       "output_type": "stream",
       "stream": "stderr",
       "text": [
        "#() has no defined phonemes. Defaulting to 0\n"
       ]
      },
      {
       "output_type": "stream",
       "stream": "stderr",
       "text": [
        "WARNING:main:#() has no defined phonemes. Defaulting to 0\n"
       ]
      },
      {
       "output_type": "stream",
       "stream": "stderr",
       "text": [
        "#() has no defined phonemes. Defaulting to 0\n"
       ]
      },
      {
       "output_type": "stream",
       "stream": "stderr",
       "text": [
        "WARNING:main:#() has no defined phonemes. Defaulting to 0\n"
       ]
      },
      {
       "output_type": "stream",
       "stream": "stderr",
       "text": [
        "#() has no defined phonemes. Defaulting to 0\n"
       ]
      },
      {
       "output_type": "stream",
       "stream": "stderr",
       "text": [
        "WARNING:main:#() has no defined phonemes. Defaulting to 0\n"
       ]
      },
      {
       "output_type": "stream",
       "stream": "stderr",
       "text": [
        "#() has no defined phonemes. Defaulting to 0\n"
       ]
      },
      {
       "output_type": "stream",
       "stream": "stderr",
       "text": [
        "WARNING:main:#() has no defined phonemes. Defaulting to 0\n"
       ]
      },
      {
       "output_type": "stream",
       "stream": "stderr",
       "text": [
        "#() has no defined phonemes. Defaulting to 0\n"
       ]
      },
      {
       "output_type": "stream",
       "stream": "stderr",
       "text": [
        "WARNING:main:#() has no defined phonemes. Defaulting to 0\n"
       ]
      },
      {
       "output_type": "stream",
       "stream": "stderr",
       "text": [
        "#() has no defined phonemes. Defaulting to 0\n"
       ]
      },
      {
       "output_type": "stream",
       "stream": "stderr",
       "text": [
        "WARNING:main:#() has no defined phonemes. Defaulting to 0\n"
       ]
      },
      {
       "output_type": "stream",
       "stream": "stderr",
       "text": [
        "#() has no defined phonemes. Defaulting to 0\n"
       ]
      },
      {
       "output_type": "stream",
       "stream": "stderr",
       "text": [
        "WARNING:main:#() has no defined phonemes. Defaulting to 0\n"
       ]
      },
      {
       "output_type": "stream",
       "stream": "stderr",
       "text": [
        "#() has no defined phonemes. Defaulting to 0\n"
       ]
      },
      {
       "output_type": "stream",
       "stream": "stderr",
       "text": [
        "WARNING:main:#() has no defined phonemes. Defaulting to 0\n"
       ]
      },
      {
       "output_type": "stream",
       "stream": "stderr",
       "text": [
        "#() has no defined phonemes. Defaulting to 0\n"
       ]
      },
      {
       "output_type": "stream",
       "stream": "stderr",
       "text": [
        "WARNING:main:#() has no defined phonemes. Defaulting to 0\n"
       ]
      },
      {
       "output_type": "stream",
       "stream": "stderr",
       "text": [
        "#() has no defined phonemes. Defaulting to 0\n"
       ]
      },
      {
       "output_type": "stream",
       "stream": "stderr",
       "text": [
        "WARNING:main:#() has no defined phonemes. Defaulting to 0\n"
       ]
      },
      {
       "output_type": "stream",
       "stream": "stderr",
       "text": [
        "#() has no defined phonemes. Defaulting to 0\n"
       ]
      },
      {
       "output_type": "stream",
       "stream": "stderr",
       "text": [
        "WARNING:main:#() has no defined phonemes. Defaulting to 0\n"
       ]
      },
      {
       "output_type": "stream",
       "stream": "stderr",
       "text": [
        "#() has no defined phonemes. Defaulting to 0\n"
       ]
      },
      {
       "output_type": "stream",
       "stream": "stderr",
       "text": [
        "WARNING:main:#() has no defined phonemes. Defaulting to 0\n"
       ]
      },
      {
       "output_type": "stream",
       "stream": "stderr",
       "text": [
        "#() has no defined phonemes. Defaulting to 0\n"
       ]
      },
      {
       "output_type": "stream",
       "stream": "stderr",
       "text": [
        "WARNING:main:#() has no defined phonemes. Defaulting to 0\n"
       ]
      },
      {
       "output_type": "stream",
       "stream": "stderr",
       "text": [
        "#() has no defined phonemes. Defaulting to 0\n"
       ]
      },
      {
       "output_type": "stream",
       "stream": "stderr",
       "text": [
        "WARNING:main:#() has no defined phonemes. Defaulting to 0\n"
       ]
      },
      {
       "output_type": "stream",
       "stream": "stderr",
       "text": [
        "#() has no defined phonemes. Defaulting to 0\n"
       ]
      },
      {
       "output_type": "stream",
       "stream": "stderr",
       "text": [
        "WARNING:main:#() has no defined phonemes. Defaulting to 0\n"
       ]
      },
      {
       "output_type": "stream",
       "stream": "stderr",
       "text": [
        "#() has no defined phonemes. Defaulting to 0\n"
       ]
      },
      {
       "output_type": "stream",
       "stream": "stderr",
       "text": [
        "WARNING:main:#() has no defined phonemes. Defaulting to 0\n"
       ]
      },
      {
       "output_type": "stream",
       "stream": "stderr",
       "text": [
        "#() has no defined phonemes. Defaulting to 0\n"
       ]
      },
      {
       "output_type": "stream",
       "stream": "stderr",
       "text": [
        "WARNING:main:#() has no defined phonemes. Defaulting to 0\n"
       ]
      },
      {
       "output_type": "stream",
       "stream": "stderr",
       "text": [
        "#() has no defined phonemes. Defaulting to 0\n"
       ]
      },
      {
       "output_type": "stream",
       "stream": "stderr",
       "text": [
        "WARNING:main:#() has no defined phonemes. Defaulting to 0\n"
       ]
      },
      {
       "output_type": "stream",
       "stream": "stderr",
       "text": [
        "#() has no defined phonemes. Defaulting to 0\n"
       ]
      },
      {
       "output_type": "stream",
       "stream": "stderr",
       "text": [
        "WARNING:main:#() has no defined phonemes. Defaulting to 0\n"
       ]
      },
      {
       "output_type": "stream",
       "stream": "stderr",
       "text": [
        "#() has no defined phonemes. Defaulting to 0\n"
       ]
      },
      {
       "output_type": "stream",
       "stream": "stderr",
       "text": [
        "WARNING:main:#() has no defined phonemes. Defaulting to 0\n"
       ]
      },
      {
       "output_type": "stream",
       "stream": "stderr",
       "text": [
        "#() has no defined phonemes. Defaulting to 0\n"
       ]
      },
      {
       "output_type": "stream",
       "stream": "stderr",
       "text": [
        "WARNING:main:#() has no defined phonemes. Defaulting to 0\n"
       ]
      },
      {
       "output_type": "stream",
       "stream": "stderr",
       "text": [
        "#() has no defined phonemes. Defaulting to 0\n"
       ]
      },
      {
       "output_type": "stream",
       "stream": "stderr",
       "text": [
        "WARNING:main:#() has no defined phonemes. Defaulting to 0\n"
       ]
      },
      {
       "output_type": "stream",
       "stream": "stderr",
       "text": [
        "#() has no defined phonemes. Defaulting to 0\n"
       ]
      },
      {
       "output_type": "stream",
       "stream": "stderr",
       "text": [
        "WARNING:main:#() has no defined phonemes. Defaulting to 0\n"
       ]
      },
      {
       "output_type": "stream",
       "stream": "stderr",
       "text": [
        "#() has no defined phonemes. Defaulting to 0\n"
       ]
      },
      {
       "output_type": "stream",
       "stream": "stderr",
       "text": [
        "WARNING:main:#() has no defined phonemes. Defaulting to 0\n"
       ]
      },
      {
       "output_type": "stream",
       "stream": "stderr",
       "text": [
        "#() has no defined phonemes. Defaulting to 0\n"
       ]
      },
      {
       "output_type": "stream",
       "stream": "stderr",
       "text": [
        "WARNING:main:#() has no defined phonemes. Defaulting to 0\n"
       ]
      },
      {
       "output_type": "stream",
       "stream": "stderr",
       "text": [
        "#() has no defined phonemes. Defaulting to 0\n"
       ]
      },
      {
       "output_type": "stream",
       "stream": "stderr",
       "text": [
        "WARNING:main:#() has no defined phonemes. Defaulting to 0\n"
       ]
      },
      {
       "output_type": "stream",
       "stream": "stderr",
       "text": [
        "#() has no defined phonemes. Defaulting to 0\n"
       ]
      },
      {
       "output_type": "stream",
       "stream": "stderr",
       "text": [
        "WARNING:main:#() has no defined phonemes. Defaulting to 0\n"
       ]
      },
      {
       "output_type": "stream",
       "stream": "stderr",
       "text": [
        "#() has no defined phonemes. Defaulting to 0\n"
       ]
      },
      {
       "output_type": "stream",
       "stream": "stderr",
       "text": [
        "WARNING:main:#() has no defined phonemes. Defaulting to 0\n"
       ]
      },
      {
       "output_type": "stream",
       "stream": "stderr",
       "text": [
        "#() has no defined phonemes. Defaulting to 0\n"
       ]
      },
      {
       "output_type": "stream",
       "stream": "stderr",
       "text": [
        "WARNING:main:#() has no defined phonemes. Defaulting to 0\n"
       ]
      },
      {
       "output_type": "stream",
       "stream": "stderr",
       "text": [
        "#() has no defined phonemes. Defaulting to 0\n"
       ]
      },
      {
       "output_type": "stream",
       "stream": "stderr",
       "text": [
        "WARNING:main:#() has no defined phonemes. Defaulting to 0\n"
       ]
      },
      {
       "output_type": "stream",
       "stream": "stderr",
       "text": [
        "#() has no defined phonemes. Defaulting to 0\n"
       ]
      },
      {
       "output_type": "stream",
       "stream": "stderr",
       "text": [
        "WARNING:main:#() has no defined phonemes. Defaulting to 0\n"
       ]
      },
      {
       "output_type": "stream",
       "stream": "stderr",
       "text": [
        "#() has no defined phonemes. Defaulting to 0\n"
       ]
      },
      {
       "output_type": "stream",
       "stream": "stderr",
       "text": [
        "WARNING:main:#() has no defined phonemes. Defaulting to 0\n"
       ]
      },
      {
       "output_type": "stream",
       "stream": "stderr",
       "text": [
        "#() has no defined phonemes. Defaulting to 0\n"
       ]
      },
      {
       "output_type": "stream",
       "stream": "stderr",
       "text": [
        "WARNING:main:#() has no defined phonemes. Defaulting to 0\n"
       ]
      },
      {
       "metadata": {},
       "output_type": "pyout",
       "prompt_number": 13,
       "text": [
        "{'ENG_MAX': 86.592,\n",
        " 'ENG_MEAN': 53.666,\n",
        " 'ENG_MIN': 31.165,\n",
        " 'ENG_STDV': 13.888,\n",
        " 'F0_MAS': 241.055,\n",
        " 'F0_MAX': 502.933,\n",
        " 'F0_MEAN': 210.188,\n",
        " 'F0_MEDIAN': 209.434,\n",
        " 'F0_MIN': 56.517,\n",
        " 'F0_STDV': 69.71,\n",
        " 'NOISE_TO_HARMONICS_RATIO': 0.124211,\n",
        " 'PHONEMES_AVG': 3.35378258864440,\n",
        " 'PHONEMES_COUNT': 1539,\n",
        " 'SECONDS': 458.885,\n",
        " 'SOUND_ALL_LOCAL_JITTER': 0.010541,\n",
        " 'SOUND_ALL_LOCAL_SHIMMER': 0.087533,\n",
        " 'SOUND_VOICED_LOCAL_JITTER': 0.009916,\n",
        " 'SOUND_VOICED_LOCAL_SHIMMER': 0.084203,\n",
        " 'SYLLABES_AVG': 1.41865657258447,\n",
        " 'SYLLABES_COUNT': 651,\n",
        " 'VCD2TOT_FRAMES': 0.237}"
       ]
      }
     ],
     "prompt_number": 13
    },
    {
     "cell_type": "code",
     "collapsed": false,
     "input": [
      "feature = \"F0_MEAN\"\n",
      "\n",
      "series, mu = tama(speech, feature)\n",
      "n = len(series)\n",
      "se = tama_standard_error(speech, feature)\n",
      "\n",
      "print \"Media tama= %.4f\" % mu\n",
      "\n",
      "print \"media muestral = %.4f\" % series.mean()\n",
      "\n",
      "variance = ((series - series.mean()) ** 2).sum() / series.size\n",
      "stdv = math.sqrt(variance)\n",
      "\n",
      "print \"tama S.E = %.4f\" % se\n",
      "\n",
      "print \"S.E muestral= %.4f\" % stdv"
     ],
     "language": "python",
     "metadata": {},
     "outputs": [
      {
       "output_type": "stream",
       "stream": "stdout",
       "text": [
        "Media tama= 230.4140\n",
        "media muestral = 230.2106\n",
        "tama S.E = 6.6008\n",
        "S.E muestral= 34.0534\n"
       ]
      }
     ],
     "prompt_number": 14
    },
    {
     "cell_type": "raw",
     "metadata": {},
     "source": [
      "Sin normalizar"
     ]
    },
    {
     "cell_type": "code",
     "collapsed": false,
     "input": [
      "series.plot(style=\"o-\")"
     ],
     "language": "python",
     "metadata": {},
     "outputs": [
      {
       "metadata": {},
       "output_type": "pyout",
       "prompt_number": 15,
       "text": [
        "<matplotlib.axes._subplots.AxesSubplot at 0x7f608842d1d0>"
       ]
      },
      {
       "metadata": {},
       "output_type": "display_data",
       "png": "[encoded data removed]",
       "text": [
        "<matplotlib.figure.Figure at 0x7f6088424cd0>"
       ]
      }
     ],
     "prompt_number": 15
    },
    {
     "cell_type": "code",
     "collapsed": false,
     "input": [
      "norm_series = pd.Series((series - mu) / se, dtype=float)\n",
      "\n",
      "norm_series.plot(style=\"o-\")"
     ],
     "language": "python",
     "metadata": {},
     "outputs": [
      {
       "metadata": {},
       "output_type": "pyout",
       "prompt_number": 16,
       "text": [
        "<matplotlib.axes._subplots.AxesSubplot at 0x7f608835bb90>"
       ]
      },
      {
       "metadata": {},
       "output_type": "display_data",
       "png": "[encoded data removed]",
       "text": [
        "<matplotlib.figure.Figure at 0x7f608835fc50>"
       ]
      }
     ],
     "prompt_number": 16
    },
    {
     "cell_type": "code",
     "collapsed": false,
     "input": [
      "norm_series = pd.Series((series - mu) / stdv, dtype=float)\n",
      "\n",
      "norm_series.plot(style=\"o-\")"
     ],
     "language": "python",
     "metadata": {},
     "outputs": [
      {
       "metadata": {},
       "output_type": "pyout",
       "prompt_number": 17,
       "text": [
        "<matplotlib.axes._subplots.AxesSubplot at 0x7f608821d550>"
       ]
      },
      {
       "metadata": {},
       "output_type": "display_data",
       "png": "[encoded data removed]",
       "text": [
        "<matplotlib.figure.Figure at 0x7f6088226950>"
       ]
      }
     ],
     "prompt_number": 17
    },
    {
     "cell_type": "code",
     "collapsed": false,
     "input": [],
     "language": "python",
     "metadata": {},
     "outputs": []
    }
   ],
   "metadata": {}
  }
 ]
}