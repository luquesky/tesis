{
 "cells": [
  {
   "cell_type": "markdown",
   "metadata": {},
   "source": [
    "# Generar tablas\n",
    "\n",
    "Correr esta notebook completa para generar las tablas que luego vamos a procesar en el análisis de regresión lineal en R"
   ]
  },
  {
   "cell_type": "code",
   "execution_count": 1,
   "metadata": {
    "collapsed": true
   },
   "outputs": [],
   "source": [
    "#\n",
    "# Este boilerplate es para que Python encuentre el código \n",
    "#\n",
    "%load_ext autoreload\n",
    "%autoreload 2\n",
    "%matplotlib inline\n",
    "\n",
    "from nbhelpers import add_source_path\n",
    "\n",
    "add_source_path(\"..\")\n"
   ]
  },
  {
   "cell_type": "code",
   "execution_count": 2,
   "metadata": {
    "scrolled": false
   },
   "outputs": [
    {
     "name": "stderr",
     "output_type": "stream",
     "text": [
      "Pickle for session /home/jmperez/projects/tesis/data/games-corpus/session_01/s01.objects.1.tasks not found. Building from scratch\n",
      "Pickle for session /home/jmperez/projects/tesis/data/games-corpus/session_02/s02.objects.1.tasks not found. Building from scratch\n",
      "Pickle for session /home/jmperez/projects/tesis/data/games-corpus/session_03/s03.objects.1.tasks not found. Building from scratch\n",
      "Pickle for session /home/jmperez/projects/tesis/data/games-corpus/session_04/s04.objects.1.tasks not found. Building from scratch\n",
      "Pickle for session /home/jmperez/projects/tesis/data/games-corpus/session_05/s05.objects.1.tasks not found. Building from scratch\n",
      "Pickle for session /home/jmperez/projects/tesis/data/games-corpus/session_06/s06.objects.1.tasks not found. Building from scratch\n",
      "Pickle for session /home/jmperez/projects/tesis/data/games-corpus/session_07/s07.objects.1.tasks not found. Building from scratch\n",
      "Pickle for session /home/jmperez/projects/tesis/data/games-corpus/session_08/s08.objects.1.tasks not found. Building from scratch\n",
      "Pickle for session /home/jmperez/projects/tesis/data/games-corpus/session_09/s09.objects.1.tasks not found. Building from scratch\n",
      "Pickle for session /home/jmperez/projects/tesis/data/games-corpus/session_10/s10.objects.1.tasks not found. Building from scratch\n",
      "Pickle for session /home/jmperez/projects/tesis/data/games-corpus/session_11/s11.objects.1.tasks not found. Building from scratch\n",
      "Pickle for session /home/jmperez/projects/tesis/data/games-corpus/session_12/s12.objects.1.tasks not found. Building from scratch\n"
     ]
    }
   ],
   "source": [
    "%matplotlib inline\n",
    "\n",
    "import pylab\n",
    "import config\n",
    "import logging\n",
    "from matplotlib import pyplot as plt\n",
    "import pandas as pd\n",
    "import numpy as np\n",
    "from session import SessionMapper, load_session\n",
    "from IPython.display import display\n",
    "from pandasql import sqldf\n",
    "from social import get_social_variables\n",
    "\n",
    "social_variables = get_social_variables()\n",
    "\n",
    "pysqldf = lambda q: sqldf(q, globals())\n",
    "\n",
    "logger = logging.getLogger('main')\n",
    "pd.set_option('display.max_columns', 100)\n",
    "pd.set_option('display.max_rows', 100)\n",
    "\n",
    "\n",
    "sessions = [load_session(i) for i in range(1,13)]"
   ]
  },
  {
   "cell_type": "markdown",
   "metadata": {},
   "source": [
    "Generamos las tablas para cada feature:"
   ]
  },
  {
   "cell_type": "code",
   "execution_count": 3,
   "metadata": {},
   "outputs": [
    {
     "name": "stderr",
     "output_type": "stream",
     "text": [
      "Generating table for F0_MEAN\n",
      "There was an error calling /home/jmperez/projects/tesis/scripts/voice-analysis.praat with interval [528.4725, 528.945]\n",
      "?-() has no defined phonemes. Defaulting to 0\n",
      "?-() has no defined phonemes. Defaulting to 0\n",
      "-?() has no defined phonemes. Defaulting to 0\n",
      "?-() has no defined phonemes. Defaulting to 0\n",
      "?-() has no defined phonemes. Defaulting to 0\n",
      "?-() has no defined phonemes. Defaulting to 0\n",
      "uu-(uu) has no defined phonemes. Defaulting to 0\n",
      "uu(uu) has no defined phonemes. Defaulting to 0\n",
      "?-() has no defined phonemes. Defaulting to 0\n",
      "?-() has no defined phonemes. Defaulting to 0\n",
      "uu(uu) has no defined phonemes. Defaulting to 0\n",
      "?-() has no defined phonemes. Defaulting to 0\n",
      "uu(uu) has no defined phonemes. Defaulting to 0\n",
      "uu(uu) has no defined phonemes. Defaulting to 0\n",
      "uu(uu) has no defined phonemes. Defaulting to 0\n",
      "uu(uu) has no defined phonemes. Defaulting to 0\n",
      "uu(uu) has no defined phonemes. Defaulting to 0\n",
      "uu-(uu) has no defined phonemes. Defaulting to 0\n",
      "uu(uu) has no defined phonemes. Defaulting to 0\n",
      "?-() has no defined phonemes. Defaulting to 0\n",
      "?() has no defined phonemes. Defaulting to 0\n",
      "uu(uu) has no defined phonemes. Defaulting to 0\n",
      "uu(uu) has no defined phonemes. Defaulting to 0\n",
      "uu(uu) has no defined phonemes. Defaulting to 0\n",
      "uu(uu) has no defined phonemes. Defaulting to 0\n",
      "uu(uu) has no defined phonemes. Defaulting to 0\n",
      "?-() has no defined phonemes. Defaulting to 0\n",
      "uu(uu) has no defined phonemes. Defaulting to 0\n",
      "uu(uu) has no defined phonemes. Defaulting to 0\n",
      "uu(uu) has no defined phonemes. Defaulting to 0\n",
      "?-() has no defined phonemes. Defaulting to 0\n",
      "?-() has no defined phonemes. Defaulting to 0\n",
      "?-() has no defined phonemes. Defaulting to 0\n",
      "?-() has no defined phonemes. Defaulting to 0\n",
      "?-() has no defined phonemes. Defaulting to 0\n",
      "?-() has no defined phonemes. Defaulting to 0\n",
      "?-() has no defined phonemes. Defaulting to 0\n",
      "There was an error calling /home/jmperez/projects/tesis/scripts/voice-analysis.praat with interval [693.2975, 693.9225]\n",
      "uu(uu) has no defined phonemes. Defaulting to 0\n",
      "?-() has no defined phonemes. Defaulting to 0\n",
      "?-() has no defined phonemes. Defaulting to 0\n",
      "?-() has no defined phonemes. Defaulting to 0\n",
      "uu(uu) has no defined phonemes. Defaulting to 0\n",
      "uu(uu) has no defined phonemes. Defaulting to 0\n",
      "uu(uu) has no defined phonemes. Defaulting to 0\n",
      "uu(uu) has no defined phonemes. Defaulting to 0\n",
      "uu(uu) has no defined phonemes. Defaulting to 0\n",
      "uu(uu) has no defined phonemes. Defaulting to 0\n",
      "?-() has no defined phonemes. Defaulting to 0\n",
      "?-() has no defined phonemes. Defaulting to 0\n",
      "?-() has no defined phonemes. Defaulting to 0\n",
      "uu(uu) has no defined phonemes. Defaulting to 0\n",
      "uu(uu) has no defined phonemes. Defaulting to 0\n",
      "?-() has no defined phonemes. Defaulting to 0\n",
      "?-() has no defined phonemes. Defaulting to 0\n",
      "?-() has no defined phonemes. Defaulting to 0\n",
      "?-() has no defined phonemes. Defaulting to 0\n",
      "?-() has no defined phonemes. Defaulting to 0\n",
      "?-() has no defined phonemes. Defaulting to 0\n",
      "?-() has no defined phonemes. Defaulting to 0\n",
      "?-() has no defined phonemes. Defaulting to 0\n",
      "?-() has no defined phonemes. Defaulting to 0\n",
      "?-() has no defined phonemes. Defaulting to 0\n",
      "?-() has no defined phonemes. Defaulting to 0\n",
      "?-() has no defined phonemes. Defaulting to 0\n",
      "?-() has no defined phonemes. Defaulting to 0\n",
      "There was an error calling /home/jmperez/projects/tesis/scripts/voice-analysis.praat with interval [2313.700322, 2314.18]\n",
      "uu(uu) has no defined phonemes. Defaulting to 0\n",
      "uu(uu) has no defined phonemes. Defaulting to 0\n",
      "?-() has no defined phonemes. Defaulting to 0\n",
      "?() has no defined phonemes. Defaulting to 0\n",
      "There was an error calling /home/jmperez/projects/tesis/scripts/voice-analysis.praat with interval [533.42705, 533.9625]\n",
      "?-() has no defined phonemes. Defaulting to 0\n",
      "?-() has no defined phonemes. Defaulting to 0\n",
      "Generating table for F0_MAX\n",
      "Generating table for ENG_MAX\n",
      "Generating table for ENG_MEAN\n",
      "Generating table for SYLLABES_AVG\n",
      "Generating table for PHONEMES_AVG\n",
      "Generating table for NOISE_TO_HARMONICS_RATIO\n",
      "Generating table for SOUND_ALL_LOCAL_JITTER\n",
      "Generating table for SOUND_ALL_LOCAL_SHIMMER\n",
      "Generating table for SOUND_VOICED_LOCAL_JITTER\n",
      "Generating table for SOUND_VOICED_LOCAL_SHIMMER\n"
     ]
    }
   ],
   "source": [
    "import os\n",
    "from analyzers import Analyzer\n",
    "\n",
    "\n",
    "features = [\"F0_MEAN\", \n",
    "            \"F0_MAX\",\n",
    "            \"ENG_MAX\", \n",
    "            \"ENG_MEAN\", \n",
    "            \"SYLLABES_AVG\", \n",
    "            'PHONEMES_AVG',\n",
    "            'NOISE_TO_HARMONICS_RATIO',\n",
    "            'SOUND_ALL_LOCAL_JITTER',\n",
    "            'SOUND_ALL_LOCAL_SHIMMER',\n",
    "            'SOUND_VOICED_LOCAL_JITTER',\n",
    "            'SOUND_VOICED_LOCAL_SHIMMER'\n",
    "]\n",
    "all_features_analysis = pd.DataFrame(columns=features, dtype=float)\n",
    "\n",
    "social_vars = [var for var in social_variables.columns if var not in [\"session\", \"task\", \"speaker\"]]\n",
    "\n",
    "for feature in features:\n",
    "    logger.info(\"Generating table for {}\".format(feature))\n",
    "    analysis = Analyzer(feature).analyze(sessions)\n",
    "    joined_analysis = pysqldf(\"\"\"\n",
    "    SELECT * from analysis INNER JOIN social_variables ON \n",
    "        analysis.session=social_variables.session AND \n",
    "        analysis.task=social_variables.task AND\n",
    "        analysis.speaker=social_variables.speaker\"\"\")\n",
    "    \n",
    "    table_path = os.path.join(config.TABLES_DIR, \"%s.csv\" % feature)\n",
    "    joined_analysis.to_csv(table_path)\n",
    "        "
   ]
  },
  {
   "cell_type": "code",
   "execution_count": 4,
   "metadata": {},
   "outputs": [],
   "source": [
    "mapper = SessionMapper(None)\n",
    "for session in sessions:\n",
    "    mapper.save(session)"
   ]
  }
 ],
 "metadata": {
  "kernelspec": {
   "display_name": "Python 2",
   "language": "python",
   "name": "python2"
  },
  "language_info": {
   "codemirror_mode": {
    "name": "ipython",
    "version": 2
   },
   "file_extension": ".py",
   "mimetype": "text/x-python",
   "name": "python",
   "nbconvert_exporter": "python",
   "pygments_lexer": "ipython2",
   "version": "2.7.12"
  }
 },
 "nbformat": 4,
 "nbformat_minor": 1
}
