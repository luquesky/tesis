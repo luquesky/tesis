{
 "cells": [
  {
   "cell_type": "code",
   "execution_count": 1,
   "metadata": {
    "collapsed": false
   },
   "outputs": [],
   "source": [
    "%matplotlib inline\n",
    "import os\n",
    "os.chdir(\"../..\")\n",
    "\n",
    "import math\n",
    "import matplotlib.patches as mpatches\n",
    "import config\n",
    "from sympy import Interval\n",
    "from session import SessionMapper\n",
    "from tama import tama, tama_standard_error\n",
    "import pandas as pd\n",
    "\n",
    "\n",
    "mapper = SessionMapper()\n",
    "\n",
    "sessions = []\n",
    "\n",
    "def load_session(session_number):\n",
    "    num = str(session_number).zfill(2)\n",
    "    name = \"session-%s\" % num\n",
    "    tasks_path = \"data/games-corpus/session_%s/s%s.objects.1.tasks\" % (num, num)\n",
    "    \n",
    "    return mapper.fetch(tasks_path, name=name)\n",
    "\n",
    "session = load_session(2)"
   ]
  },
  {
   "cell_type": "raw",
   "metadata": {},
   "source": [
    "Hagamos los time plots para las tareas que pasen el threshold"
   ]
  },
  {
   "cell_type": "code",
   "execution_count": 2,
   "metadata": {
    "collapsed": false
   },
   "outputs": [],
   "source": [
    "\n",
    "task = session.tasks[7]\n",
    "speech = task.speechA"
   ]
  },
  {
   "cell_type": "code",
   "execution_count": 3,
   "metadata": {
    "collapsed": false
   },
   "outputs": [
    {
     "name": "stderr",
     "output_type": "stream",
     "text": [
      "#() has no defined phonemes. Defaulting to 0\n",
      "WARNING:main:#() has no defined phonemes. Defaulting to 0\n",
      "#() has no defined phonemes. Defaulting to 0\n",
      "WARNING:main:#() has no defined phonemes. Defaulting to 0\n",
      "#() has no defined phonemes. Defaulting to 0\n",
      "WARNING:main:#() has no defined phonemes. Defaulting to 0\n",
      "#() has no defined phonemes. Defaulting to 0\n",
      "WARNING:main:#() has no defined phonemes. Defaulting to 0\n",
      "#() has no defined phonemes. Defaulting to 0\n",
      "WARNING:main:#() has no defined phonemes. Defaulting to 0\n",
      "#() has no defined phonemes. Defaulting to 0\n",
      "WARNING:main:#() has no defined phonemes. Defaulting to 0\n",
      "#() has no defined phonemes. Defaulting to 0\n",
      "WARNING:main:#() has no defined phonemes. Defaulting to 0\n",
      "#() has no defined phonemes. Defaulting to 0\n",
      "WARNING:main:#() has no defined phonemes. Defaulting to 0\n",
      "#() has no defined phonemes. Defaulting to 0\n",
      "WARNING:main:#() has no defined phonemes. Defaulting to 0\n",
      "#() has no defined phonemes. Defaulting to 0\n",
      "WARNING:main:#() has no defined phonemes. Defaulting to 0\n",
      "#() has no defined phonemes. Defaulting to 0\n",
      "WARNING:main:#() has no defined phonemes. Defaulting to 0\n",
      "#() has no defined phonemes. Defaulting to 0\n",
      "WARNING:main:#() has no defined phonemes. Defaulting to 0\n",
      "#() has no defined phonemes. Defaulting to 0\n",
      "WARNING:main:#() has no defined phonemes. Defaulting to 0\n",
      "#() has no defined phonemes. Defaulting to 0\n",
      "WARNING:main:#() has no defined phonemes. Defaulting to 0\n",
      "#() has no defined phonemes. Defaulting to 0\n",
      "WARNING:main:#() has no defined phonemes. Defaulting to 0\n",
      "#() has no defined phonemes. Defaulting to 0\n",
      "WARNING:main:#() has no defined phonemes. Defaulting to 0\n",
      "#() has no defined phonemes. Defaulting to 0\n",
      "WARNING:main:#() has no defined phonemes. Defaulting to 0\n",
      "#() has no defined phonemes. Defaulting to 0\n",
      "WARNING:main:#() has no defined phonemes. Defaulting to 0\n",
      "#() has no defined phonemes. Defaulting to 0\n",
      "WARNING:main:#() has no defined phonemes. Defaulting to 0\n",
      "#() has no defined phonemes. Defaulting to 0\n",
      "WARNING:main:#() has no defined phonemes. Defaulting to 0\n",
      "#() has no defined phonemes. Defaulting to 0\n",
      "WARNING:main:#() has no defined phonemes. Defaulting to 0\n",
      "#() has no defined phonemes. Defaulting to 0\n",
      "WARNING:main:#() has no defined phonemes. Defaulting to 0\n",
      "#() has no defined phonemes. Defaulting to 0\n",
      "WARNING:main:#() has no defined phonemes. Defaulting to 0\n",
      "#() has no defined phonemes. Defaulting to 0\n",
      "WARNING:main:#() has no defined phonemes. Defaulting to 0\n",
      "#() has no defined phonemes. Defaulting to 0\n",
      "WARNING:main:#() has no defined phonemes. Defaulting to 0\n",
      "#() has no defined phonemes. Defaulting to 0\n",
      "WARNING:main:#() has no defined phonemes. Defaulting to 0\n",
      "#() has no defined phonemes. Defaulting to 0\n",
      "WARNING:main:#() has no defined phonemes. Defaulting to 0\n",
      "#() has no defined phonemes. Defaulting to 0\n",
      "WARNING:main:#() has no defined phonemes. Defaulting to 0\n",
      "#() has no defined phonemes. Defaulting to 0\n",
      "WARNING:main:#() has no defined phonemes. Defaulting to 0\n",
      "#() has no defined phonemes. Defaulting to 0\n",
      "WARNING:main:#() has no defined phonemes. Defaulting to 0\n",
      "#() has no defined phonemes. Defaulting to 0\n",
      "WARNING:main:#() has no defined phonemes. Defaulting to 0\n",
      "#() has no defined phonemes. Defaulting to 0\n",
      "WARNING:main:#() has no defined phonemes. Defaulting to 0\n",
      "#() has no defined phonemes. Defaulting to 0\n",
      "WARNING:main:#() has no defined phonemes. Defaulting to 0\n",
      "#() has no defined phonemes. Defaulting to 0\n",
      "WARNING:main:#() has no defined phonemes. Defaulting to 0\n",
      "#() has no defined phonemes. Defaulting to 0\n",
      "WARNING:main:#() has no defined phonemes. Defaulting to 0\n",
      "#() has no defined phonemes. Defaulting to 0\n",
      "WARNING:main:#() has no defined phonemes. Defaulting to 0\n",
      "#() has no defined phonemes. Defaulting to 0\n",
      "WARNING:main:#() has no defined phonemes. Defaulting to 0\n",
      "#() has no defined phonemes. Defaulting to 0\n",
      "WARNING:main:#() has no defined phonemes. Defaulting to 0\n",
      "#() has no defined phonemes. Defaulting to 0\n",
      "WARNING:main:#() has no defined phonemes. Defaulting to 0\n",
      "#() has no defined phonemes. Defaulting to 0\n",
      "WARNING:main:#() has no defined phonemes. Defaulting to 0\n",
      "#() has no defined phonemes. Defaulting to 0\n",
      "WARNING:main:#() has no defined phonemes. Defaulting to 0\n",
      "#() has no defined phonemes. Defaulting to 0\n",
      "WARNING:main:#() has no defined phonemes. Defaulting to 0\n",
      "#() has no defined phonemes. Defaulting to 0\n",
      "WARNING:main:#() has no defined phonemes. Defaulting to 0\n",
      "#() has no defined phonemes. Defaulting to 0\n",
      "WARNING:main:#() has no defined phonemes. Defaulting to 0\n",
      "#() has no defined phonemes. Defaulting to 0\n",
      "WARNING:main:#() has no defined phonemes. Defaulting to 0\n",
      "#() has no defined phonemes. Defaulting to 0\n",
      "WARNING:main:#() has no defined phonemes. Defaulting to 0\n",
      "#() has no defined phonemes. Defaulting to 0\n",
      "WARNING:main:#() has no defined phonemes. Defaulting to 0\n",
      "#() has no defined phonemes. Defaulting to 0\n",
      "WARNING:main:#() has no defined phonemes. Defaulting to 0\n",
      "#() has no defined phonemes. Defaulting to 0\n",
      "WARNING:main:#() has no defined phonemes. Defaulting to 0\n",
      "#() has no defined phonemes. Defaulting to 0\n",
      "WARNING:main:#() has no defined phonemes. Defaulting to 0\n",
      "#() has no defined phonemes. Defaulting to 0\n",
      "WARNING:main:#() has no defined phonemes. Defaulting to 0\n",
      "#() has no defined phonemes. Defaulting to 0\n",
      "WARNING:main:#() has no defined phonemes. Defaulting to 0\n",
      "#() has no defined phonemes. Defaulting to 0\n",
      "WARNING:main:#() has no defined phonemes. Defaulting to 0\n",
      "#() has no defined phonemes. Defaulting to 0\n",
      "WARNING:main:#() has no defined phonemes. Defaulting to 0\n",
      "#() has no defined phonemes. Defaulting to 0\n",
      "WARNING:main:#() has no defined phonemes. Defaulting to 0\n",
      "#() has no defined phonemes. Defaulting to 0\n",
      "WARNING:main:#() has no defined phonemes. Defaulting to 0\n",
      "#() has no defined phonemes. Defaulting to 0\n",
      "WARNING:main:#() has no defined phonemes. Defaulting to 0\n",
      "#() has no defined phonemes. Defaulting to 0\n",
      "WARNING:main:#() has no defined phonemes. Defaulting to 0\n",
      "#() has no defined phonemes. Defaulting to 0\n",
      "WARNING:main:#() has no defined phonemes. Defaulting to 0\n",
      "#() has no defined phonemes. Defaulting to 0\n",
      "WARNING:main:#() has no defined phonemes. Defaulting to 0\n",
      "#() has no defined phonemes. Defaulting to 0\n",
      "WARNING:main:#() has no defined phonemes. Defaulting to 0\n",
      "#() has no defined phonemes. Defaulting to 0\n",
      "WARNING:main:#() has no defined phonemes. Defaulting to 0\n",
      "#() has no defined phonemes. Defaulting to 0\n",
      "WARNING:main:#() has no defined phonemes. Defaulting to 0\n",
      "#() has no defined phonemes. Defaulting to 0\n",
      "WARNING:main:#() has no defined phonemes. Defaulting to 0\n",
      "#() has no defined phonemes. Defaulting to 0\n",
      "WARNING:main:#() has no defined phonemes. Defaulting to 0\n",
      "#() has no defined phonemes. Defaulting to 0\n",
      "WARNING:main:#() has no defined phonemes. Defaulting to 0\n",
      "#() has no defined phonemes. Defaulting to 0\n",
      "WARNING:main:#() has no defined phonemes. Defaulting to 0\n",
      "#() has no defined phonemes. Defaulting to 0\n",
      "WARNING:main:#() has no defined phonemes. Defaulting to 0\n",
      "#() has no defined phonemes. Defaulting to 0\n",
      "WARNING:main:#() has no defined phonemes. Defaulting to 0\n",
      "#() has no defined phonemes. Defaulting to 0\n",
      "WARNING:main:#() has no defined phonemes. Defaulting to 0\n",
      "#() has no defined phonemes. Defaulting to 0\n",
      "WARNING:main:#() has no defined phonemes. Defaulting to 0\n",
      "#() has no defined phonemes. Defaulting to 0\n",
      "WARNING:main:#() has no defined phonemes. Defaulting to 0\n",
      "#() has no defined phonemes. Defaulting to 0\n",
      "WARNING:main:#() has no defined phonemes. Defaulting to 0\n",
      "#() has no defined phonemes. Defaulting to 0\n",
      "WARNING:main:#() has no defined phonemes. Defaulting to 0\n",
      "#() has no defined phonemes. Defaulting to 0\n",
      "WARNING:main:#() has no defined phonemes. Defaulting to 0\n",
      "#() has no defined phonemes. Defaulting to 0\n",
      "WARNING:main:#() has no defined phonemes. Defaulting to 0\n",
      "#() has no defined phonemes. Defaulting to 0\n",
      "WARNING:main:#() has no defined phonemes. Defaulting to 0\n",
      "#() has no defined phonemes. Defaulting to 0\n",
      "WARNING:main:#() has no defined phonemes. Defaulting to 0\n",
      "#() has no defined phonemes. Defaulting to 0\n",
      "WARNING:main:#() has no defined phonemes. Defaulting to 0\n",
      "#() has no defined phonemes. Defaulting to 0\n",
      "WARNING:main:#() has no defined phonemes. Defaulting to 0\n",
      "#() has no defined phonemes. Defaulting to 0\n",
      "WARNING:main:#() has no defined phonemes. Defaulting to 0\n",
      "#() has no defined phonemes. Defaulting to 0\n",
      "WARNING:main:#() has no defined phonemes. Defaulting to 0\n",
      "#() has no defined phonemes. Defaulting to 0\n",
      "WARNING:main:#() has no defined phonemes. Defaulting to 0\n",
      "#() has no defined phonemes. Defaulting to 0\n",
      "WARNING:main:#() has no defined phonemes. Defaulting to 0\n",
      "#() has no defined phonemes. Defaulting to 0\n",
      "WARNING:main:#() has no defined phonemes. Defaulting to 0\n",
      "#() has no defined phonemes. Defaulting to 0\n",
      "WARNING:main:#() has no defined phonemes. Defaulting to 0\n",
      "#() has no defined phonemes. Defaulting to 0\n",
      "WARNING:main:#() has no defined phonemes. Defaulting to 0\n",
      "#() has no defined phonemes. Defaulting to 0\n",
      "WARNING:main:#() has no defined phonemes. Defaulting to 0\n",
      "#() has no defined phonemes. Defaulting to 0\n",
      "WARNING:main:#() has no defined phonemes. Defaulting to 0\n",
      "#() has no defined phonemes. Defaulting to 0\n",
      "WARNING:main:#() has no defined phonemes. Defaulting to 0\n",
      "#() has no defined phonemes. Defaulting to 0\n",
      "WARNING:main:#() has no defined phonemes. Defaulting to 0\n",
      "#() has no defined phonemes. Defaulting to 0\n",
      "WARNING:main:#() has no defined phonemes. Defaulting to 0\n",
      "#() has no defined phonemes. Defaulting to 0\n",
      "WARNING:main:#() has no defined phonemes. Defaulting to 0\n",
      "#() has no defined phonemes. Defaulting to 0\n",
      "WARNING:main:#() has no defined phonemes. Defaulting to 0\n",
      "#() has no defined phonemes. Defaulting to 0\n",
      "WARNING:main:#() has no defined phonemes. Defaulting to 0\n",
      "#() has no defined phonemes. Defaulting to 0\n",
      "WARNING:main:#() has no defined phonemes. Defaulting to 0\n",
      "#() has no defined phonemes. Defaulting to 0\n",
      "WARNING:main:#() has no defined phonemes. Defaulting to 0\n",
      "#() has no defined phonemes. Defaulting to 0\n",
      "WARNING:main:#() has no defined phonemes. Defaulting to 0\n",
      "#() has no defined phonemes. Defaulting to 0\n",
      "WARNING:main:#() has no defined phonemes. Defaulting to 0\n",
      "#() has no defined phonemes. Defaulting to 0\n",
      "WARNING:main:#() has no defined phonemes. Defaulting to 0\n",
      "#() has no defined phonemes. Defaulting to 0\n",
      "WARNING:main:#() has no defined phonemes. Defaulting to 0\n",
      "#() has no defined phonemes. Defaulting to 0\n",
      "WARNING:main:#() has no defined phonemes. Defaulting to 0\n",
      "#() has no defined phonemes. Defaulting to 0\n",
      "WARNING:main:#() has no defined phonemes. Defaulting to 0\n",
      "#() has no defined phonemes. Defaulting to 0\n",
      "WARNING:main:#() has no defined phonemes. Defaulting to 0\n",
      "#() has no defined phonemes. Defaulting to 0\n",
      "WARNING:main:#() has no defined phonemes. Defaulting to 0\n",
      "#() has no defined phonemes. Defaulting to 0\n",
      "WARNING:main:#() has no defined phonemes. Defaulting to 0\n",
      "#() has no defined phonemes. Defaulting to 0\n",
      "WARNING:main:#() has no defined phonemes. Defaulting to 0\n",
      "#() has no defined phonemes. Defaulting to 0\n",
      "WARNING:main:#() has no defined phonemes. Defaulting to 0\n",
      "#() has no defined phonemes. Defaulting to 0\n",
      "WARNING:main:#() has no defined phonemes. Defaulting to 0\n",
      "#() has no defined phonemes. Defaulting to 0\n",
      "WARNING:main:#() has no defined phonemes. Defaulting to 0\n",
      "#() has no defined phonemes. Defaulting to 0\n",
      "WARNING:main:#() has no defined phonemes. Defaulting to 0\n",
      "#() has no defined phonemes. Defaulting to 0\n",
      "WARNING:main:#() has no defined phonemes. Defaulting to 0\n",
      "#() has no defined phonemes. Defaulting to 0\n",
      "WARNING:main:#() has no defined phonemes. Defaulting to 0\n",
      "#() has no defined phonemes. Defaulting to 0\n",
      "WARNING:main:#() has no defined phonemes. Defaulting to 0\n",
      "#() has no defined phonemes. Defaulting to 0\n",
      "WARNING:main:#() has no defined phonemes. Defaulting to 0\n",
      "#() has no defined phonemes. Defaulting to 0\n",
      "WARNING:main:#() has no defined phonemes. Defaulting to 0\n",
      "#() has no defined phonemes. Defaulting to 0\n",
      "WARNING:main:#() has no defined phonemes. Defaulting to 0\n",
      "#() has no defined phonemes. Defaulting to 0\n",
      "WARNING:main:#() has no defined phonemes. Defaulting to 0\n",
      "#() has no defined phonemes. Defaulting to 0\n",
      "WARNING:main:#() has no defined phonemes. Defaulting to 0\n",
      "#() has no defined phonemes. Defaulting to 0\n",
      "WARNING:main:#() has no defined phonemes. Defaulting to 0\n",
      "#() has no defined phonemes. Defaulting to 0\n",
      "WARNING:main:#() has no defined phonemes. Defaulting to 0\n",
      "#() has no defined phonemes. Defaulting to 0\n",
      "WARNING:main:#() has no defined phonemes. Defaulting to 0\n",
      "#() has no defined phonemes. Defaulting to 0\n",
      "WARNING:main:#() has no defined phonemes. Defaulting to 0\n",
      "#() has no defined phonemes. Defaulting to 0\n",
      "WARNING:main:#() has no defined phonemes. Defaulting to 0\n",
      "#() has no defined phonemes. Defaulting to 0\n",
      "WARNING:main:#() has no defined phonemes. Defaulting to 0\n",
      "#() has no defined phonemes. Defaulting to 0\n",
      "WARNING:main:#() has no defined phonemes. Defaulting to 0\n",
      "#() has no defined phonemes. Defaulting to 0\n",
      "WARNING:main:#() has no defined phonemes. Defaulting to 0\n",
      "#() has no defined phonemes. Defaulting to 0\n",
      "WARNING:main:#() has no defined phonemes. Defaulting to 0\n",
      "#() has no defined phonemes. Defaulting to 0\n",
      "WARNING:main:#() has no defined phonemes. Defaulting to 0\n",
      "#() has no defined phonemes. Defaulting to 0\n",
      "WARNING:main:#() has no defined phonemes. Defaulting to 0\n",
      "#() has no defined phonemes. Defaulting to 0\n",
      "WARNING:main:#() has no defined phonemes. Defaulting to 0\n",
      "#() has no defined phonemes. Defaulting to 0\n",
      "WARNING:main:#() has no defined phonemes. Defaulting to 0\n",
      "#() has no defined phonemes. Defaulting to 0\n",
      "WARNING:main:#() has no defined phonemes. Defaulting to 0\n"
     ]
    },
    {
     "data": {
      "text/plain": [
       "{'ENG_MAX': 86.592,\n",
       " 'ENG_MEAN': 53.666,\n",
       " 'ENG_MIN': 31.165,\n",
       " 'ENG_STDV': 13.888,\n",
       " 'F0_MAS': 241.055,\n",
       " 'F0_MAX': 502.933,\n",
       " 'F0_MEAN': 210.188,\n",
       " 'F0_MEDIAN': 209.434,\n",
       " 'F0_MIN': 56.517,\n",
       " 'F0_STDV': 69.71,\n",
       " 'NOISE_TO_HARMONICS_RATIO': 0.124211,\n",
       " 'PHONEMES_AVG': 3.35378258864440,\n",
       " 'PHONEMES_COUNT': 1539,\n",
       " 'SECONDS': 458.885,\n",
       " 'SOUND_ALL_LOCAL_JITTER': 0.010541,\n",
       " 'SOUND_ALL_LOCAL_SHIMMER': 0.087533,\n",
       " 'SOUND_VOICED_LOCAL_JITTER': 0.009916,\n",
       " 'SOUND_VOICED_LOCAL_SHIMMER': 0.084203,\n",
       " 'SYLLABES_AVG': 1.41865657258447,\n",
       " 'SYLLABES_COUNT': 651,\n",
       " 'VCD2TOT_FRAMES': 0.237}"
      ]
     },
     "execution_count": 3,
     "metadata": {},
     "output_type": "execute_result"
    }
   ],
   "source": [
    "speech.get_features(speech.interval)"
   ]
  },
  {
   "cell_type": "code",
   "execution_count": 4,
   "metadata": {
    "collapsed": false
   },
   "outputs": [
    {
     "name": "stdout",
     "output_type": "stream",
     "text": [
      "Media tama= 230.4140\n",
      "media muestral = 233.6743\n",
      "tama S.E = 6.6008\n",
      "S.E muestral= 40.5416\n"
     ]
    }
   ],
   "source": [
    "feature = \"F0_MEAN\"\n",
    "\n",
    "series, mu = tama(speech, feature)\n",
    "n = len(series)\n",
    "se = tama_standard_error(speech, feature)\n",
    "\n",
    "print \"Media tama= %.4f\" % mu\n",
    "\n",
    "print \"media muestral = %.4f\" % series.mean()\n",
    "\n",
    "variance = ((series - series.mean()) ** 2).sum() / series.size\n",
    "stdv = math.sqrt(variance)\n",
    "\n",
    "print \"tama S.E = %.4f\" % se\n",
    "\n",
    "print \"S.E muestral= %.4f\" % stdv"
   ]
  },
  {
   "cell_type": "raw",
   "metadata": {},
   "source": [
    "Sin normalizar"
   ]
  },
  {
   "cell_type": "code",
   "execution_count": 5,
   "metadata": {
    "collapsed": false
   },
   "outputs": [
    {
     "data": {
      "text/plain": [
       "<matplotlib.axes._subplots.AxesSubplot at 0x7fbb00096350>"
      ]
     },
     "execution_count": 5,
     "metadata": {},
     "output_type": "execute_result"
    },
    {
     "data": {
      "image/png": "[encoded data removed]",
      "text/plain": [
       "<matplotlib.figure.Figure at 0x7fbb002f6d50>"
      ]
     },
     "metadata": {},
     "output_type": "display_data"
    }
   ],
   "source": [
    "series.plot(style=\"o-\")"
   ]
  },
  {
   "cell_type": "code",
   "execution_count": 6,
   "metadata": {
    "collapsed": false
   },
   "outputs": [
    {
     "data": {
      "text/plain": [
       "<matplotlib.axes._subplots.AxesSubplot at 0x7fbadfce6890>"
      ]
     },
     "execution_count": 6,
     "metadata": {},
     "output_type": "execute_result"
    },
    {
     "data": {
      "image/png": "[encoded data removed]",
      "text/plain": [
       "<matplotlib.figure.Figure at 0x7fbae12385d0>"
      ]
     },
     "metadata": {},
     "output_type": "display_data"
    }
   ],
   "source": [
    "norm_series = pd.Series((series - mu) / se, dtype=float)\n",
    "\n",
    "norm_series.plot(style=\"o-\")"
   ]
  },
  {
   "cell_type": "code",
   "execution_count": 7,
   "metadata": {
    "collapsed": false
   },
   "outputs": [
    {
     "data": {
      "text/plain": [
       "<matplotlib.axes._subplots.AxesSubplot at 0x7fbae0865250>"
      ]
     },
     "execution_count": 7,
     "metadata": {},
     "output_type": "execute_result"
    },
    {
     "data": {
      "image/png": "[encoded data removed]",
      "text/plain": [
       "<matplotlib.figure.Figure at 0x7fbae0027dd0>"
      ]
     },
     "metadata": {},
     "output_type": "display_data"
    }
   ],
   "source": [
    "norm_series = pd.Series((series - mu) / stdv, dtype=float)\n",
    "\n",
    "norm_series.plot(style=\"o-\")"
   ]
  },
  {
   "cell_type": "code",
   "execution_count": null,
   "metadata": {
    "collapsed": false
   },
   "outputs": [],
   "source": []
  }
 ],
 "metadata": {
  "kernelspec": {
   "display_name": "Python 2",
   "language": "python",
   "name": "python2"
  },
  "language_info": {
   "codemirror_mode": {
    "name": "ipython",
    "version": 2
   },
   "file_extension": ".py",
   "mimetype": "text/x-python",
   "name": "python",
   "nbconvert_exporter": "python",
   "pygments_lexer": "ipython2",
   "version": "2.7.10"
  }
 },
 "nbformat": 4,
 "nbformat_minor": 0
}
