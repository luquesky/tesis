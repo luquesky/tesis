{
 "cells": [
  {
   "cell_type": "markdown",
   "metadata": {},
   "source": [
    "# Correr de nuevo todos los experimentos\n",
    "## CUIDADO - CUIDADO - CUIDADO: \n",
    "Ésto borra archivos .pickle (donde cacheamos los TAMA), y otras cosas. Correr bajo propio riesgo\n",
    "\n",
    "Primero, cambiemos el current directory."
   ]
  },
  {
   "cell_type": "code",
   "execution_count": 1,
   "metadata": {
    "collapsed": true
   },
   "outputs": [],
   "source": [
    "%matplotlib inline\n",
    "import os\n",
    "os.chdir(\"./..\")"
   ]
  },
  {
   "cell_type": "markdown",
   "metadata": {},
   "source": [
    "Borremos los `.pickle`"
   ]
  },
  {
   "cell_type": "code",
   "execution_count": 9,
   "metadata": {
    "collapsed": false
   },
   "outputs": [
    {
     "name": "stdout",
     "output_type": "stream",
     "text": [
      "No pickle files\n"
     ]
    }
   ],
   "source": [
    "from subprocess import check_output\n",
    "\n",
    "pickle_files = check_output([\"find\", \"-name\", \"*.pickle\"]).split('\\n')\n",
    "# last one is an empty line, remove it\n",
    "pickle_files = pickle_files[:-1]\n",
    "\n",
    "if len(pickle_files) > 0:\n",
    "    print(check_output([\"rm\", \"-v\"] + pickle_files))\n",
    "else:\n",
    "    print('No pickle files to be deleted')"
   ]
  },
  {
   "cell_type": "code",
   "execution_count": null,
   "metadata": {
    "collapsed": true
   },
   "outputs": [],
   "source": []
  }
 ],
 "metadata": {
  "kernelspec": {
   "display_name": "Python 2",
   "language": "python",
   "name": "python2"
  },
  "language_info": {
   "codemirror_mode": {
    "name": "ipython",
    "version": 2
   },
   "file_extension": ".py",
   "mimetype": "text/x-python",
   "name": "python",
   "nbconvert_exporter": "python",
   "pygments_lexer": "ipython2",
   "version": "2.7.10"
  }
 },
 "nbformat": 4,
 "nbformat_minor": 0
}
