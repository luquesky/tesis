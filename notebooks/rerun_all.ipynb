{
 "cells": [
  {
   "cell_type": "markdown",
   "metadata": {},
   "source": [
    "# Correr de nuevo todos los experimentos\n",
    "## CUIDADO - CUIDADO - CUIDADO: \n",
    "Ésto borra archivos .pickle (donde cacheamos los valores a/p de cada intervalo), y otras cosas. Correr bajo propio riesgo.\n",
    "\n",
    "Primero, el boilerplate."
   ]
  },
  {
   "cell_type": "code",
   "execution_count": 1,
   "metadata": {
    "collapsed": true
   },
   "outputs": [],
   "source": [
    "#\n",
    "# Este boilerplate es para que Python encuentre el código \n",
    "#\n",
    "%matplotlib inline\n",
    "\n",
    "from nbhelpers import add_source_path\n",
    "\n",
    "add_source_path(\"..\")\n"
   ]
  },
  {
   "cell_type": "markdown",
   "metadata": {},
   "source": [
    "Borremos los `.pickle`"
   ]
  },
  {
   "cell_type": "code",
   "execution_count": 2,
   "metadata": {
    "collapsed": false
   },
   "outputs": [
    {
     "name": "stdout",
     "output_type": "stream",
     "text": [
      "No pickle files to be deleted\n"
     ]
    }
   ],
   "source": [
    "import config \n",
    "from subprocess import check_output\n",
    "\n",
    "pickle_files = check_output([\"find\", config.ROOT_DIR, \"-name\", \"*.pickle\"]).split('\\n')\n",
    "# last one is an empty line, remove it\n",
    "pickle_files = pickle_files[:-1]\n",
    "\n",
    "if len(pickle_files) > 0:\n",
    "    print(check_output([\"rm\", \"-v\"] + pickle_files))\n",
    "else:\n",
    "    print('No pickle files to be deleted')"
   ]
  },
  {
   "cell_type": "markdown",
   "metadata": {},
   "source": [
    "Acá las notebooks en orden:\n",
    "1. Primero, las de time plots\n",
    "2. Luego, sesiones\n"
   ]
  },
  {
   "cell_type": "code",
   "execution_count": 4,
   "metadata": {
    "collapsed": false
   },
   "outputs": [
    {
     "name": "stderr",
     "output_type": "stream",
     "text": [
      "Running /home/marat/projects/tesis/notebooks/time_plots.ipynb\n",
      "INFO:main:Running /home/marat/projects/tesis/notebooks/time_plots.ipynb\n",
      "Running /home/marat/projects/tesis/notebooks/generate_tables.ipynb\n",
      "INFO:main:Running /home/marat/projects/tesis/notebooks/generate_tables.ipynb\n",
      "Running /home/marat/projects/tesis/notebooks/session_info.ipynb\n",
      "INFO:main:Running /home/marat/projects/tesis/notebooks/session_info.ipynb\n",
      "Running /home/marat/projects/tesis/notebooks/large_time_plots.ipynb\n",
      "INFO:main:Running /home/marat/projects/tesis/notebooks/large_time_plots.ipynb\n",
      "Running /home/marat/projects/tesis/notebooks/full_analysis.ipynb\n",
      "INFO:main:Running /home/marat/projects/tesis/notebooks/full_analysis.ipynb\n"
     ]
    }
   ],
   "source": [
    "import os\n",
    "import logging\n",
    "from runipy.notebook_runner import NotebookRunner\n",
    "from IPython.nbformat.current import read, write\n",
    "\n",
    "logger = logging.getLogger('main')\n",
    "\n",
    "def run_notebook(path):\n",
    "    abs_path = os.path.join(config.ROOT_DIR, path)\n",
    "    logger.info(\"Running %s\" % abs_path)\n",
    "    notebook = read(open(abs_path), 'json')\n",
    "    r = NotebookRunner(notebook)\n",
    "    r.run_notebook()\n",
    "    write(r.nb, open(abs_path, 'w'), 'json')\n",
    "    \n",
    "run_notebook(\"notebooks/time_plots.ipynb\")\n",
    "# La verdaderamente importante\n",
    "run_notebook(\"notebooks/generate_tables.ipynb\")\n",
    "# esta tarda un montón... ojo\n",
    "# run_notebook(\"notebooks/window_selection.ipynb\")\n",
    "# Las siguientes son accesorias...\n",
    "run_notebook(\"notebooks/session_info.ipynb\")\n",
    "run_notebook(\"notebooks/large_time_plots.ipynb\")\n",
    "run_notebook(\"notebooks/full_analysis.ipynb\")\n"
   ]
  },
  {
   "cell_type": "code",
   "execution_count": null,
   "metadata": {
    "collapsed": true
   },
   "outputs": [],
   "source": []
  }
 ],
 "metadata": {
  "kernelspec": {
   "display_name": "Python 2",
   "language": "python",
   "name": "python2"
  },
  "language_info": {
   "codemirror_mode": {
    "name": "ipython",
    "version": 2
   },
   "file_extension": ".py",
   "mimetype": "text/x-python",
   "name": "python",
   "nbconvert_exporter": "python",
   "pygments_lexer": "ipython2",
   "version": "2.7.10"
  }
 },
 "nbformat": 4,
 "nbformat_minor": 0
}
