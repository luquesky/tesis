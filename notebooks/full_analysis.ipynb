{
 "cells": [
  {
   "cell_type": "markdown",
   "metadata": {},
   "source": [
    "Vamos a hacer el análisis de la tabla para todas las features... Carguemos *TODAS* las tablas de los features"
   ]
  },
  {
   "cell_type": "code",
   "execution_count": 9,
   "metadata": {
    "collapsed": false
   },
   "outputs": [
    {
     "name": "stdout",
     "output_type": "stream",
     "text": [
      "__main__\n"
     ]
    }
   ],
   "source": [
    "%matplotlib inline\n",
    "import os\n",
    "print __name__\n",
    "os.chdir(\"./..\")\n"
   ]
  },
  {
   "cell_type": "code",
   "execution_count": 10,
   "metadata": {
    "collapsed": false
   },
   "outputs": [],
   "source": [
    "%matplotlib inline\n",
    "\n",
    "import pylab\n",
    "import config\n",
    "import logging\n",
    "import glob\n",
    "import pandas as pd\n",
    "from IPython.display import display\n",
    "from analyzers import correlation_analysis \n",
    "pd.set_option('display.max_columns', 100)\n",
    "pd.set_option('display.max_rows', 100)\n",
    "\n",
    "tables = {}\n",
    "\n",
    "for path in glob.glob(\"./tables/*.csv\"):\n",
    "    var_name = path[9:-4]\n",
    "    new_df = pd.DataFrame.from_csv(path)\n",
    "    new_df['abs_entrainment'] = abs(new_df['entrainment'])\n",
    "    \n",
    "    tables[var_name] = new_df\n",
    "    "
   ]
  },
  {
   "cell_type": "markdown",
   "metadata": {},
   "source": [
    "Haremos lo siguiente:\n",
    "\n",
    "- Primero agruparemos por sesión, calculando el promedio del entrainment y de cada variable social"
   ]
  },
  {
   "cell_type": "code",
   "execution_count": 11,
   "metadata": {
    "collapsed": false
   },
   "outputs": [
    {
     "ename": "KeyError",
     "evalue": "'ENG_MAX'",
     "output_type": "error",
     "traceback": [
      "\u001b[1;31m---------------------------------------------------------------------------\u001b[0m",
      "\u001b[1;31mKeyError\u001b[0m                                  Traceback (most recent call last)",
      "\u001b[1;32m<ipython-input-11-8998287092b7>\u001b[0m in \u001b[0;36m<module>\u001b[1;34m()\u001b[0m\n\u001b[0;32m     16\u001b[0m \u001b[0mavg_by_session\u001b[0m \u001b[1;33m=\u001b[0m \u001b[1;33m{\u001b[0m \u001b[0mvar\u001b[0m\u001b[1;33m:\u001b[0m\u001b[0mgroup_analysis\u001b[0m\u001b[1;33m(\u001b[0m\u001b[0mtables\u001b[0m\u001b[1;33m[\u001b[0m\u001b[0mvar\u001b[0m\u001b[1;33m]\u001b[0m\u001b[1;33m)\u001b[0m \u001b[1;32mfor\u001b[0m \u001b[0mvar\u001b[0m \u001b[1;32min\u001b[0m \u001b[0mtables\u001b[0m \u001b[1;33m}\u001b[0m\u001b[1;33m\u001b[0m\u001b[0m\n\u001b[0;32m     17\u001b[0m \u001b[1;33m\u001b[0m\u001b[0m\n\u001b[1;32m---> 18\u001b[1;33m \u001b[0mavg_by_session\u001b[0m\u001b[1;33m[\u001b[0m\u001b[1;34m\"ENG_MAX\"\u001b[0m\u001b[1;33m]\u001b[0m\u001b[1;33m\u001b[0m\u001b[0m\n\u001b[0m",
      "\u001b[1;31mKeyError\u001b[0m: 'ENG_MAX'"
     ]
    }
   ],
   "source": [
    "avg_by_session = {}\n",
    "\n",
    "def group_analysis(df):\n",
    "    ret = df.groupby(by=[\"session\", \"speaker\"]).mean()\n",
    "    return ret[[u'entrainment', u'abs_entrainment',\n",
    "       u'bored_with_game',\n",
    "       u'difficult_for_partner_to_speak',\n",
    "       u'contributes_to_successful_completion', u'engaged_in_game',\n",
    "       u'gives_encouragement', u'making_self_clear', u'planning_what_to_say',\n",
    "       u'dislikes_partner']]\n",
    "\n",
    "\n",
    "\n",
    "\n",
    "\n",
    "avg_by_session = { var:group_analysis(tables[var]) for var in tables }\n",
    "\n",
    "avg_by_session[\"ENG_MAX\"]"
   ]
  },
  {
   "cell_type": "markdown",
   "metadata": {},
   "source": [
    "Primero calcularemos la correlación entre el `entrainment` y las distintas variables sociales"
   ]
  },
  {
   "cell_type": "code",
   "execution_count": null,
   "metadata": {
    "collapsed": false
   },
   "outputs": [],
   "source": [
    "import social\n",
    "from analyzers import correlation_analysis\n",
    "\n",
    "def full_correlation_analysis(df, entrainment_var=\"entrainment\"):\n",
    "    return pd.DataFrame({var:correlation_analysis(df[var], entrainment_var) for var in df})\n",
    "\n",
    "full_correlation_analysis(avg_by_session)"
   ]
  },
  {
   "cell_type": "markdown",
   "metadata": {},
   "source": [
    "# Valor Absoluto de Entrainment\n",
    "Ahora hagámoslo pero sobre el valor absoluto del entrainment..."
   ]
  },
  {
   "cell_type": "code",
   "execution_count": null,
   "metadata": {
    "collapsed": false
   },
   "outputs": [],
   "source": [
    "df = full_correlation_analysis(avg_by_session, entrainment_var=\"abs_entrainment\")\n",
    "\n",
    "df"
   ]
  },
  {
   "cell_type": "markdown",
   "metadata": {},
   "source": [
    "# Análisis de entrainments significativos\n",
    "\n",
    "Hagamos una última cosa:\n",
    "1. Primero, filtremos sólo los entrainments significativos, es decir, aquellas filas tal que $ entrainment > \\frac{2}{\\sqrt{n}}$\n",
    "2. Efectuemos los análisis antes hechos"
   ]
  },
  {
   "cell_type": "code",
   "execution_count": null,
   "metadata": {
    "collapsed": false
   },
   "outputs": [],
   "source": [
    "from math import sqrt\n",
    "\n",
    "def filter_significatives(df):\n",
    "    return df[abs(df.entrainment)**2 * df['count'] > 4]\n",
    "\n",
    "significatives = {var:filter_significatives(tables[var]) for var in tables} \n",
    "\n",
    "\n"
   ]
  },
  {
   "cell_type": "code",
   "execution_count": null,
   "metadata": {
    "collapsed": false
   },
   "outputs": [],
   "source": [
    "avg_by_session = { var:group_analysis(significatives[var]) for var in tables }\n",
    "\n",
    "full_correlation_analysis(avg_by_session)"
   ]
  },
  {
   "cell_type": "markdown",
   "metadata": {},
   "source": [
    "#Análisis de significativos usando entrainment absoluto"
   ]
  },
  {
   "cell_type": "code",
   "execution_count": null,
   "metadata": {
    "collapsed": false
   },
   "outputs": [],
   "source": [
    "display(full_correlation_analysis(avg_by_session, entrainment_var=\"abs_entrainment\"))"
   ]
  },
  {
   "cell_type": "code",
   "execution_count": null,
   "metadata": {
    "collapsed": false
   },
   "outputs": [],
   "source": []
  }
 ],
 "metadata": {
  "kernelspec": {
   "display_name": "Python 2",
   "language": "python",
   "name": "python2"
  },
  "language_info": {
   "codemirror_mode": {
    "name": "ipython",
    "version": 2
   },
   "file_extension": ".py",
   "mimetype": "text/x-python",
   "name": "python",
   "nbconvert_exporter": "python",
   "pygments_lexer": "ipython2",
   "version": "2.7.10"
  }
 },
 "nbformat": 4,
 "nbformat_minor": 0
}
