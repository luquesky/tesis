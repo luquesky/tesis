{
 "metadata": {
  "name": "",
  "signature": "sha256:cd9b2dfe61dbcd0b90f7e76ccf0bd49e44539ac8ef129dd3f9c2fed05b8ad18b"
 },
 "nbformat": 3,
 "nbformat_minor": 0,
 "worksheets": [
  {
   "cells": [
    {
     "cell_type": "code",
     "collapsed": false,
     "input": [
      "%matplotlib inline\n",
      "%pylab\n",
      "import numpy as np\n",
      "import pandas as pd\n",
      "import matplotlib.pyplot as plt"
     ],
     "language": "python",
     "metadata": {},
     "outputs": [
      {
       "output_type": "stream",
       "stream": "stdout",
       "text": [
        "Using matplotlib backend: Qt4Agg\n",
        "Populating the interactive namespace from numpy and matplotlib\n"
       ]
      }
     ],
     "prompt_number": 2
    },
    {
     "cell_type": "raw",
     "metadata": {},
     "source": [
      "Create a series"
     ]
    },
    {
     "cell_type": "code",
     "collapsed": false,
     "input": [
      "s = pd.Series(100* np.random.randn(300))\n",
      "s.plot()\n",
      "\n",
      "s.cumsum().plot()\n",
      "#s.cumsum().cumsum().plot()"
     ],
     "language": "python",
     "metadata": {},
     "outputs": []
    },
    {
     "cell_type": "raw",
     "metadata": {},
     "source": [
      "Series with missing data"
     ]
    },
    {
     "cell_type": "code",
     "collapsed": false,
     "input": [
      "def g(n):\n",
      "    for i in range(n):\n",
      "        n = np.random.rand()\n",
      "        n = n if n < 0.9 else np.nan\n",
      "        yield n\n",
      "\n",
      "pd.Series(g(100)).plot()"
     ],
     "language": "python",
     "metadata": {},
     "outputs": []
    },
    {
     "cell_type": "raw",
     "metadata": {},
     "source": [
      "Calculate correlations with missing values"
     ]
    },
    {
     "cell_type": "code",
     "collapsed": false,
     "input": [
      "X = pd.Series([1,2,np.nan, 4, 5])\n",
      "Y = pd.Series([1,np.nan, 3, 4, 5])\n",
      "\n",
      "X.corr(Y)"
     ],
     "language": "python",
     "metadata": {},
     "outputs": []
    },
    {
     "cell_type": "code",
     "collapsed": false,
     "input": [
      "X = pd.Series([1,2,3,4,5], index=range(5,10))\n",
      "Y = pd.Series([1,2,3,4,5])\n",
      "\n",
      "X.corr(Y)"
     ],
     "language": "python",
     "metadata": {},
     "outputs": []
    },
    {
     "cell_type": "code",
     "collapsed": false,
     "input": [
      "X.index"
     ],
     "language": "python",
     "metadata": {},
     "outputs": []
    },
    {
     "cell_type": "code",
     "collapsed": false,
     "input": [
      "pd.Series(np.random.randn(100)).plot(style=\"o-\")"
     ],
     "language": "python",
     "metadata": {},
     "outputs": []
    },
    {
     "cell_type": "code",
     "collapsed": false,
     "input": [
      "X = pd.Series(np.random.randn(20))\n",
      "Y = pd.Series(np.random.randn(20))\n",
      "\n",
      "X_norm = (X - X.mean()) / X.std()\n",
      "Y_norm = (Y - Y.mean()) / Y.std()"
     ],
     "language": "python",
     "metadata": {},
     "outputs": []
    },
    {
     "cell_type": "code",
     "collapsed": false,
     "input": [
      "X.plot(style='o-')\n",
      "Y.plot(style='o-')\n"
     ],
     "language": "python",
     "metadata": {},
     "outputs": []
    },
    {
     "cell_type": "raw",
     "metadata": {},
     "source": [
      "DataFrames:\n",
      "\n",
      "(Robado de la documentaci\u00f3n) \"Two-dimensional size-mutable, potentially heterogeneous tabular data structure with labeled axes (rows and columns). Arithmetic operations align on both row and column labels. Can be thought of as a dict-like container for Series objects. The primary pandas data structure\"\n"
     ]
    },
    {
     "cell_type": "code",
     "collapsed": false,
     "input": [
      "D = pd.DataFrame({'a': np.random.randn(20), 'b': np.random.randn(20)})\n",
      "\n",
      "D"
     ],
     "language": "python",
     "metadata": {},
     "outputs": []
    },
    {
     "cell_type": "code",
     "collapsed": false,
     "input": [
      "D.plot(color=['r', 'r'])"
     ],
     "language": "python",
     "metadata": {},
     "outputs": []
    },
    {
     "cell_type": "raw",
     "metadata": {},
     "source": [
      "Armemos dos series y veamos c\u00f3mo queda el data frame"
     ]
    },
    {
     "cell_type": "code",
     "collapsed": false,
     "input": [
      "X = pd.Series([0,1,2], index=[0,1,2])\n",
      "Y = pd.Series([1,2,3], index=[1,2,3])\n",
      "Z = pd.Series([2,3,4], index=[2,3,4])\n",
      "\n",
      "d = { 'X': X, 'Y': Y, 'Z': Z}"
     ],
     "language": "python",
     "metadata": {},
     "outputs": []
    },
    {
     "cell_type": "markdown",
     "metadata": {},
     "source": [
      "Vamos a armar un DataFrame de un diccionario. El Data Frame resultante va a tener como columnas a las claves del diccionario, y como filas el \u00edndice resultante de la uni\u00f3n de los \u00edndices de cada serie (en este caso `[0,1,2,3]`)\n",
      "\n",
      "Los datos faltantes se rellenan con `np.nan` \n"
     ]
    },
    {
     "cell_type": "code",
     "collapsed": false,
     "input": [
      "pd.DataFrame(d)"
     ],
     "language": "python",
     "metadata": {},
     "outputs": []
    },
    {
     "cell_type": "markdown",
     "metadata": {},
     "source": [
      "Me quedo s\u00f3lo con un par de columnas e \u00edndices"
     ]
    },
    {
     "cell_type": "code",
     "collapsed": false,
     "input": [
      "pd.DataFrame(d, columns=['X', 'Y'], index=[1,2])"
     ],
     "language": "python",
     "metadata": {},
     "outputs": []
    },
    {
     "cell_type": "code",
     "collapsed": false,
     "input": [
      "pd.DataFrame(d).plot()"
     ],
     "language": "python",
     "metadata": {},
     "outputs": []
    },
    {
     "cell_type": "code",
     "collapsed": false,
     "input": [
      "%pylab\n",
      "%matplotlib inline\n",
      "import pandas as pd\n",
      "\n",
      "pylab.rcParams['figure.figsize'] = (12,4)\n",
      "\n",
      "f, ax = plt.subplots(ncols=2)\n",
      "\n",
      "D.plot(ax=ax[0])\n",
      "D.plot(ax=ax[1], color=['r', 'y'])"
     ],
     "language": "python",
     "metadata": {},
     "outputs": []
    },
    {
     "cell_type": "code",
     "collapsed": false,
     "input": [],
     "language": "python",
     "metadata": {},
     "outputs": [],
     "prompt_number": 39
    }
   ],
   "metadata": {}
  }
 ]
}