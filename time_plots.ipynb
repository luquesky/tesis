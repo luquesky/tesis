{
 "metadata": {
  "name": "",
  "signature": "sha256:128e4ccec2f573ca44947b816d874bf3d2383c673e17eaa3ff21d6ab89a623f1"
 },
 "nbformat": 3,
 "nbformat_minor": 0,
 "worksheets": [
  {
   "cells": [
    {
     "cell_type": "code",
     "collapsed": false,
     "input": [
      "%matplotlib inline1\n",
      "%pylab\n",
      "from matplotlib import pyplot as plt\n",
      "import matplotlib.patches as mpatches\n",
      "import config\n",
      "from session import SessionMapper\n",
      "from tama import normalized_tama\n",
      "import pandas as pd\n",
      "\n",
      "pylab.rcParams['figure.figsize'] = (6,4)\n",
      "\n",
      "mapper = SessionMapper()\n",
      "\n",
      "sessions = []\n",
      "\n",
      "def load_session(session_number):\n",
      "    num = str(session_number).zfill(2)\n",
      "    name = \"session-%s\" % num\n",
      "    tasks_path = \"data/games-corpus/session_%s/s%s.objects.1.tasks\" % (num, num)\n",
      "    \n",
      "    return mapper.fetch(tasks_path, name=name)\n",
      "\n",
      "for i in range(1, 2):\n",
      "    sessions.append(load_session(i))\n"
     ],
     "language": "python",
     "metadata": {},
     "outputs": [
      {
       "output_type": "stream",
       "stream": "stderr",
       "text": [
        "Pickle not found. Building from scratch\n"
       ]
      },
      {
       "output_type": "stream",
       "stream": "stderr",
       "text": [
        "INFO:main:Pickle not found. Building from scratch\n"
       ]
      },
      {
       "output_type": "stream",
       "stream": "stdout",
       "text": [
        "Using matplotlib backend: Qt4Agg\n",
        "Populating the interactive namespace from numpy and matplotlib\n"
       ]
      }
     ],
     "prompt_number": 1
    },
    {
     "cell_type": "raw",
     "metadata": {},
     "source": [
      "Hagamos los time plots para las tareas que pasen el threshold"
     ]
    },
    {
     "cell_type": "code",
     "collapsed": false,
     "input": [
      "from helpers import entrainment\n",
      "features = [\"F0_MEAN\"]\n",
      "\n",
      "def plot_correlogram(A, B):\n",
      "    n = len(A)\n",
      "    \n",
      "    lag_limit = min(6, n)\n",
      "    lags = range(-lag_limit, lag_limit+1)\n",
      "    cross_correlations = cross_correlogram(A, B, lags)\n",
      "\n",
      "    confidence_value = 2 / np.sqrt(n)\n",
      "    \n",
      "    # Draw all the shit\n",
      "    plt.xlabel(\"Lag\")\n",
      "    plt.ylabel(\"Correlation\")\n",
      "    plt.axvline(0, color=\"k\")\n",
      "    plt.axhline(0, color=\"k\")\n",
      "    cross_correlations.plot(style=\"bo\")\n",
      "    \n",
      "    # Draw max points\n",
      "    pos_corr = cross_correlations[cross_correlations.index >= 0]\n",
      "    neg_corr = cross_correlations[cross_correlations.index <= 0]\n",
      "    l_xy, e_xy, l_yx, e_yx = entrainment(A, B, lags= lags)\n",
      "    \n",
      "    pd.Series({l_xy: e_xy, l_yx: e_yx}).plot(style=\"ro\")\n",
      "    \n",
      "    \n",
      "    \n",
      "    # Draw confidence interval\n",
      "    l_m, l_M = min(lags), max(lags)\n",
      "    plt.hlines(confidence_value, l_m, l_M, linestyles='dashed', color='g')\n",
      "    plt.hlines(-confidence_value, l_m, l_M, linestyles='dashed', color='g')\n",
      "    \n",
      "def plot_tamas(A, B):\n",
      "    A.plot(style='o-', c=\"r\")\n",
      "    B.plot(style='o-', c=\"b\")\n",
      "    \n",
      "    red_patch = mpatches.Patch(color='red', label='Speaker A')\n",
      "    blue_patch = mpatches.Patch(color='blue', label='Speaker B')\n",
      "    \n",
      "    plt.legend(handles=[red_patch, blue_patch])\n",
      "    plt.xlabel(\"Time\")\n",
      "    plt.ylabel(\"Average %s\" % feature)\n",
      "\n",
      "    \n",
      "    l_AB, E_AB, l_BA, E_BA = entrainment(A, B, lags=range(-6, 6))\n",
      "    \n",
      "    print \"A -> B = %.5f (lag = %s)\" % (E_AB, l_AB)\n",
      "    print \"B -> A = %.5f (lag = %s)\" % (E_BA, l_BA)\n",
      "\n",
      "\n",
      "def plot_info(task, feature):\n",
      "    A = normalized_tama(task.speechA, feature)\n",
      "    B = normalized_tama(task.speechB, feature)\n",
      "    \n",
      "    f, ax = plt.subplots(ncols=2)\n",
      "    plt.sca(ax[0])\n",
      "    plot_tamas(A, B, ax=ax[0])\n",
      "    plt.sca(ax[1])\n",
      "    plot_correlogram(A, B, ax=ax[0])\n",
      "    \n",
      "    plt.show()\n",
      "    \n",
      "    \n",
      "\n",
      "for feature in features:\n",
      "    print \"\\n\" * 5\n",
      "    print feature\n",
      "    \n",
      "    for session in sessions:\n",
      "        print session.name\n",
      "        for task in session.tasks:\n",
      "            print \"%s - %s - %s\" % (feature, session.name, task.name)\n",
      "            if task.length > config.TASK_LENGTH_THRESHOLD:\n",
      "                print task.description\n",
      "                plot_info(task, feature)\n",
      "                "
     ],
     "language": "python",
     "metadata": {},
     "outputs": []
    },
    {
     "cell_type": "code",
     "collapsed": false,
     "input": [
      "for session in sessions:\n",
      "    mapper.save(session)"
     ],
     "language": "python",
     "metadata": {},
     "outputs": []
    },
    {
     "cell_type": "code",
     "collapsed": false,
     "input": [],
     "language": "python",
     "metadata": {},
     "outputs": []
    },
    {
     "cell_type": "code",
     "collapsed": false,
     "input": [],
     "language": "python",
     "metadata": {},
     "outputs": []
    },
    {
     "cell_type": "code",
     "collapsed": false,
     "input": [],
     "language": "python",
     "metadata": {},
     "outputs": []
    }
   ],
   "metadata": {}
  }
 ]
}