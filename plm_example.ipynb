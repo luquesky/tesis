{
 "cells": [
  {
   "cell_type": "markdown",
   "metadata": {},
   "source": [
    "# PLM Example\n",
    "\n",
    "Fuente: [Paper sobre la implementación de plm](https://cran.r-project.org/web/packages/plm/vignettes/plm.pdf)\n",
    "\n",
    "Incluyamos la librería, y a su vez un par de datasets que vamos a usar para probar plm"
   ]
  },
  {
   "cell_type": "code",
   "execution_count": 8,
   "metadata": {
    "collapsed": false
   },
   "outputs": [],
   "source": [
    "library(\"plm\")\n",
    "data(\"EmplUK\", package=\"plm\")\n",
    "data(\"Produc\", package=\"plm\")\n",
    "data(\"Grunfeld\", package=\"plm\")\n",
    "data(\"Wages\",package=\"plm\")"
   ]
  },
  {
   "cell_type": "markdown",
   "metadata": {},
   "source": [
    "Mostremos una parte de un dataset"
   ]
  },
  {
   "cell_type": "code",
   "execution_count": 9,
   "metadata": {
    "collapsed": false
   },
   "outputs": [
    {
     "data": {
      "text/html": [
       "<table>\n",
       "<thead><tr><th></th><th scope=col>firm</th><th scope=col>year</th><th scope=col>inv</th><th scope=col>value</th><th scope=col>capital</th></tr></thead>\n",
       "<tbody>\n",
       "\t<tr><th scope=row>1</th><td>1</td><td>1935</td><td>317.6</td><td>3078.5</td><td>2.8</td></tr>\n",
       "\t<tr><th scope=row>2</th><td>1</td><td>1936</td><td>391.8</td><td>4661.7</td><td>52.6</td></tr>\n",
       "\t<tr><th scope=row>3</th><td>1</td><td>1937</td><td>410.6</td><td>5387.1</td><td>156.9</td></tr>\n",
       "\t<tr><th scope=row>4</th><td>1</td><td>1938</td><td>257.7</td><td>2792.2</td><td>209.2</td></tr>\n",
       "\t<tr><th scope=row>5</th><td>1</td><td>1939</td><td>330.8</td><td>4313.2</td><td>203.4</td></tr>\n",
       "\t<tr><th scope=row>6</th><td>1</td><td>1940</td><td>461.2</td><td>4643.9</td><td>207.2</td></tr>\n",
       "</tbody>\n",
       "</table>\n"
      ],
      "text/latex": [
       "\\begin{tabular}{r|lllll}\n",
       "  & firm & year & inv & value & capital\\\\\n",
       "\\hline\n",
       "\t1 & 1 & 1935 & 317.6 & 3078.5 & 2.8\\\\\n",
       "\t2 & 1 & 1936 & 391.8 & 4661.7 & 52.6\\\\\n",
       "\t3 & 1 & 1937 & 410.6 & 5387.1 & 156.9\\\\\n",
       "\t4 & 1 & 1938 & 257.7 & 2792.2 & 209.2\\\\\n",
       "\t5 & 1 & 1939 & 330.8 & 4313.2 & 203.4\\\\\n",
       "\t6 & 1 & 1940 & 461.2 & 4643.9 & 207.2\\\\\n",
       "\\end{tabular}\n"
      ],
      "text/plain": [
       "  firm year   inv  value capital\n",
       "1    1 1935 317.6 3078.5     2.8\n",
       "2    1 1936 391.8 4661.7    52.6\n",
       "3    1 1937 410.6 5387.1   156.9\n",
       "4    1 1938 257.7 2792.2   209.2\n",
       "5    1 1939 330.8 4313.2   203.4\n",
       "6    1 1940 461.2 4643.9   207.2"
      ]
     },
     "execution_count": 9,
     "metadata": {},
     "output_type": "execute_result"
    }
   ],
   "source": [
    "head(Grunfeld)"
   ]
  },
  {
   "cell_type": "markdown",
   "metadata": {},
   "source": [
    "Podemos convertir todo ésto en datos de panel, es decir, organizados de la manera:\n",
    "\n",
    "|         | t1    |    t2   | t3   | t4 |\n",
    "|---------|:-----:|:-------:|:----:|:--:|\n",
    "| sujeto1 |  ...  | ...     | ...  | .. |\n",
    "| sujeto2 |  ...  | ...     | ...  | .. |\n",
    "\n",
    "Ésto puede hacerse de dos maneras:\n",
    "\n",
    "1. La columna del individuo y el tiempo deben ser las dos primeras del data.frame original, en cuyo caso podemos trabajar con el data.frame directamente\n",
    "2. Otra forma es crear un `pdata.frame` del data.frame original\n"
   ]
  },
  {
   "cell_type": "code",
   "execution_count": 12,
   "metadata": {
    "collapsed": false
   },
   "outputs": [
    {
     "data": {
      "text/html": [
       "<table>\n",
       "<thead><tr><th></th><th scope=col>inv</th><th scope=col>value</th><th scope=col>capital</th></tr></thead>\n",
       "<tbody>\n",
       "\t<tr><th scope=row>1-1935</th><td>317.6</td><td>3078.5</td><td>2.8</td></tr>\n",
       "\t<tr><th scope=row>1-1936</th><td>391.8</td><td>4661.7</td><td>52.6</td></tr>\n",
       "\t<tr><th scope=row>1-1937</th><td>410.6</td><td>5387.1</td><td>156.9</td></tr>\n",
       "\t<tr><th scope=row>1-1938</th><td>257.7</td><td>2792.2</td><td>209.2</td></tr>\n",
       "\t<tr><th scope=row>1-1939</th><td>330.8</td><td>4313.2</td><td>203.4</td></tr>\n",
       "\t<tr><th scope=row>1-1940</th><td>461.2</td><td>4643.9</td><td>207.2</td></tr>\n",
       "</tbody>\n",
       "</table>\n"
      ],
      "text/latex": [
       "\\begin{tabular}{r|lll}\n",
       "  & inv & value & capital\\\\\n",
       "\\hline\n",
       "\t1-1935 & 317.6 & 3078.5 & 2.8\\\\\n",
       "\t1-1936 & 391.8 & 4661.7 & 52.6\\\\\n",
       "\t1-1937 & 410.6 & 5387.1 & 156.9\\\\\n",
       "\t1-1938 & 257.7 & 2792.2 & 209.2\\\\\n",
       "\t1-1939 & 330.8 & 4313.2 & 203.4\\\\\n",
       "\t1-1940 & 461.2 & 4643.9 & 207.2\\\\\n",
       "\\end{tabular}\n"
      ],
      "text/plain": [
       "         inv  value capital\n",
       "1-1935 317.6 3078.5     2.8\n",
       "1-1936 391.8 4661.7    52.6\n",
       "1-1937 410.6 5387.1   156.9\n",
       "1-1938 257.7 2792.2   209.2\n",
       "1-1939 330.8 4313.2   203.4\n",
       "1-1940 461.2 4643.9   207.2"
      ]
     },
     "execution_count": 12,
     "metadata": {},
     "output_type": "execute_result"
    }
   ],
   "source": [
    "E <- pdata.frame(Grunfeld, index = c(\"firm\", \"year\"), drop.index = TRUE, row.names = TRUE)\n",
    "head(E)"
   ]
  },
  {
   "cell_type": "markdown",
   "metadata": {},
   "source": [
    "Calculemos el modelo de efectos fijos para `inv` como variable dependiente de `value + capital`"
   ]
  },
  {
   "cell_type": "code",
   "execution_count": 22,
   "metadata": {
    "collapsed": false
   },
   "outputs": [
    {
     "name": "stdout",
     "output_type": "stream",
     "text": [
      "\n",
      "Model Formula: inv ~ value + capital\n",
      "\n",
      "Coefficients:\n",
      "  value capital \n",
      "0.11012 0.31007 \n",
      "\n"
     ]
    }
   ],
   "source": [
    "fixed_effects <- plm(inv ~ value + capital, data=E, model=\"within\")\n",
    "\n",
    "print(fixed_effects)"
   ]
  },
  {
   "cell_type": "code",
   "execution_count": 23,
   "metadata": {
    "collapsed": false
   },
   "outputs": [
    {
     "data": {
      "text/plain": [
       "Oneway (individual) effect Within Model\n",
       "\n",
       "Call:\n",
       "plm(formula = inv ~ value + capital, data = E, model = \"within\")\n",
       "\n",
       "Balanced Panel: n=10, T=20, N=200\n",
       "\n",
       "Residuals :\n",
       "    Min.  1st Qu.   Median  3rd Qu.     Max. \n",
       "-184.000  -17.600    0.563   19.200  251.000 \n",
       "\n",
       "Coefficients :\n",
       "        Estimate Std. Error t-value  Pr(>|t|)    \n",
       "value   0.110124   0.011857  9.2879 < 2.2e-16 ***\n",
       "capital 0.310065   0.017355 17.8666 < 2.2e-16 ***\n",
       "---\n",
       "Signif. codes:  0 ‘***’ 0.001 ‘**’ 0.01 ‘*’ 0.05 ‘.’ 0.1 ‘ ’ 1\n",
       "\n",
       "Total Sum of Squares:    2244400\n",
       "Residual Sum of Squares: 523480\n",
       "R-Squared      :  0.76676 \n",
       "      Adj. R-Squared :  0.72075 \n",
       "F-statistic: 309.014 on 2 and 188 DF, p-value: < 2.22e-16"
      ]
     },
     "execution_count": 23,
     "metadata": {},
     "output_type": "execute_result"
    }
   ],
   "source": [
    "summary(fixed_effects)"
   ]
  },
  {
   "cell_type": "code",
   "execution_count": null,
   "metadata": {
    "collapsed": true
   },
   "outputs": [],
   "source": []
  }
 ],
 "metadata": {
  "kernelspec": {
   "display_name": "R",
   "language": "R",
   "name": "ir"
  },
  "language_info": {
   "codemirror_mode": "r",
   "file_extension": ".r",
   "mimetype": "text/x-r-source",
   "name": "R",
   "pygments_lexer": "r",
   "version": "3.2.2"
  }
 },
 "nbformat": 4,
 "nbformat_minor": 0
}
