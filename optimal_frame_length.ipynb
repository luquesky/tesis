{
 "metadata": {
  "name": "",
  "signature": "sha256:594d59c15e40c5977f9cdc280bfe9fcdb5c7dd8728e922564ecb73b0002069bc"
 },
 "nbformat": 3,
 "nbformat_minor": 0,
 "worksheets": [
  {
   "cells": [
    {
     "cell_type": "code",
     "collapsed": false,
     "input": [
      "from speech import SpeechBuilder\n",
      "\n",
      "speechA = SpeechBuilder(\"data/s10.objects.1.A.wav\").speech \n",
      "speechB = SpeechBuilder(\"data/s10.objects.1.B.wav\").speech"
     ],
     "language": "python",
     "metadata": {},
     "outputs": [],
     "prompt_number": 1
    },
    {
     "cell_type": "raw",
     "metadata": {},
     "source": [
      "Now, let's find the maximum distance between utterances. This should be, at least, the minimum frame length in order to avoid frames without utterances...  "
     ]
    },
    {
     "cell_type": "code",
     "collapsed": false,
     "input": [
      "from helpers import interval_distance\n",
      "\n",
      "def find_max_distance(speech):\n",
      "    utterances = speech.utterances\n",
      "    return max([interval_distance(utterances[i], utterances[i+1]) for i in range(len(utterances)-1)])\n",
      "    \n",
      "print find_max_distance(speechA)\n",
      "print find_max_distance(speechB)"
     ],
     "language": "python",
     "metadata": {},
     "outputs": [
      {
       "output_type": "stream",
       "stream": "stdout",
       "text": [
        "123.934010000000\n",
        "96.0550000000001"
       ]
      },
      {
       "output_type": "stream",
       "stream": "stdout",
       "text": [
        "\n"
       ]
      }
     ],
     "prompt_number": 9
    },
    {
     "cell_type": "code",
     "collapsed": false,
     "input": [],
     "language": "python",
     "metadata": {},
     "outputs": []
    }
   ],
   "metadata": {}
  }
 ]
}