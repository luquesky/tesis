{
 "metadata": {
  "name": "",
  "signature": "sha256:6d1f39a5b448c6b243446430a7d13f207a94a3887fd8d3c10bc7381c393aeeb6"
 },
 "nbformat": 3,
 "nbformat_minor": 0,
 "worksheets": [
  {
   "cells": [
    {
     "cell_type": "markdown",
     "metadata": {},
     "source": [
      "En esta notebook vamos a intentar buscar los mejores par\u00e1metros de ventana para el corpus que tenemos.\n",
      "\n",
      "Hay dos par\u00e1metros a buscar\n",
      "- Longitud de ventana/frame: Es el largo de cada ventana que utilizaremos en la construcci\u00f3n de la serie de tiempo\n",
      "- Salto entre ventana/frame: Es el salto que vamos a dar entre cada cada punto de la serie de tiempo.\n",
      "\n",
      "Kousidis utiliz\u00f3 `10''` para el salto, `20''` para el largo de ventana. Esto da un 50% de superposici\u00f3n. Nosotros vamos a buscar par\u00e1metros \"\u00f3ptimos\" manteniendo este 50% de superposici\u00f3n.\n",
      "\n",
      "Primero, carguemos las sesiones..."
     ]
    },
    {
     "cell_type": "code",
     "collapsed": false,
     "input": [
      "%matplotlib inline\n",
      "import numpy as np\n",
      "import pandas as pd\n",
      "from matplotlib import pyplot as plt\n",
      "import matplotlib.patches as mpatches\n",
      "import config\n",
      "from session import load_session\n",
      "from tama import tama, hybrid_tama\n",
      "import pandas as pd\n",
      "\n",
      "\n",
      "sessions = []\n",
      "\n",
      "\n",
      "for i in range(1, 13):\n",
      "    if (i!= 1 and i != 11): \n",
      "        sessions.append(load_session(i))\n",
      "    "
     ],
     "language": "python",
     "metadata": {},
     "outputs": [
      {
       "output_type": "stream",
       "stream": "stderr",
       "text": [
        "Pickle for session data/games-corpus/session_02/s02.objects.1.tasks not found. Building from scratch\n"
       ]
      },
      {
       "output_type": "stream",
       "stream": "stderr",
       "text": [
        "INFO:main:Pickle for session data/games-corpus/session_02/s02.objects.1.tasks not found. Building from scratch\n"
       ]
      },
      {
       "output_type": "stream",
       "stream": "stderr",
       "text": [
        "Pickle for session data/games-corpus/session_03/s03.objects.1.tasks not found. Building from scratch\n"
       ]
      },
      {
       "output_type": "stream",
       "stream": "stderr",
       "text": [
        "INFO:main:Pickle for session data/games-corpus/session_03/s03.objects.1.tasks not found. Building from scratch\n"
       ]
      },
      {
       "output_type": "stream",
       "stream": "stderr",
       "text": [
        "Pickle for session data/games-corpus/session_04/s04.objects.1.tasks not found. Building from scratch\n"
       ]
      },
      {
       "output_type": "stream",
       "stream": "stderr",
       "text": [
        "INFO:main:Pickle for session data/games-corpus/session_04/s04.objects.1.tasks not found. Building from scratch\n"
       ]
      },
      {
       "output_type": "stream",
       "stream": "stderr",
       "text": [
        "Pickle for session data/games-corpus/session_05/s05.objects.1.tasks not found. Building from scratch\n"
       ]
      },
      {
       "output_type": "stream",
       "stream": "stderr",
       "text": [
        "INFO:main:Pickle for session data/games-corpus/session_05/s05.objects.1.tasks not found. Building from scratch\n"
       ]
      }
     ]
    },
    {
     "cell_type": "markdown",
     "metadata": {},
     "source": [
      "Vamos a usar el rango de steps $\\{ 5'', 6'', \\ldots , 15''\\}$. Por lo mencionado antes, el ancho de la ventana ser\u00e1 del doble del step.\n",
      "\n",
      "Vamos a graficar la cantidad de indefiniciones en la serie en funci\u00f3n del frame step.\n",
      "\n",
      "Para graficar \u00e9sto, dada una sesi\u00f3n, construiremos un Data Frame cuyas columnas sean las tareas (v\u00e1lidas), y que cada una tenga una serie con los \u00edndices de los steps."
     ]
    },
    {
     "cell_type": "code",
     "collapsed": false,
     "input": [
      "import pylab\n",
      "from tsa import cross_correlation, cross_correlogram, entrainment\n",
      "from operator import itemgetter\n",
      "\n",
      "pylab.rcParams['figure.figsize'] = (15,4)\n",
      "features = [\"F0_MEAN\"]\n",
      "steps = range(5, 16)\n",
      "\n",
      "\n",
      "def get_session_data_frame(session, feature, task_threshold):\n",
      "    session_data_A = {}\n",
      "    session_data_B = {}\n",
      "    len_data = {}\n",
      "    for task in session.tasks:\n",
      "        if task.length < task_threshold:\n",
      "            continue\n",
      "        task_frame_A = {}\n",
      "        task_frame_B = {}\n",
      "        \n",
      "        len_data[task.name] = {}\n",
      "        # Cuento las indefiniciones \n",
      "        for frame_step in steps:\n",
      "            frame_length = 2 * frame_step\n",
      "            A, _ = tama(task.speechA, feature, frame_step=frame_step, frame_length=frame_length)\n",
      "            B, _ = tama(task.speechB, feature, frame_step=frame_step, frame_length=frame_length)\n",
      "            \n",
      "            if A.count() < config.SERIES_LENGTH_THRESHOLD or B.count() < config.SERIES_LENGTH_THRESHOLD:\n",
      "                continue\n",
      "            task_frame_A[frame_step] = A.isnull().sum()\n",
      "            task_frame_B[frame_step] = B.isnull().sum()\n",
      "            len_data[task.name][frame_step] = A.size\n",
      "        \n",
      "        session_data_A[task.name] = pd.Series(task_frame_A)\n",
      "        session_data_B[task.name] = pd.Series(task_frame_B)\n",
      "        \n",
      "    return pd.DataFrame(session_data_A), pd.DataFrame(session_data_B), pd.DataFrame(len_data)\n",
      "\n",
      "def plot_window_info(dataframe, mean, title, ax):\n",
      "    new_title = \"%s - %s tasks\" % (title, dataframe.shape[1])\n",
      "    sp = dataframe.plot(title=new_title, style=\"o-\", legend=False, ax=ax)\n",
      "    mean.plot(style=\"r-\", linewidth=5.0, ax=ax)\n",
      "    \n",
      "    print \"#Undefs Diff %s (FS 8s to 10s)) = %.3f\" % (title, abs(mean[8] - mean[10])) \n",
      "    sp.set_ylim([0,8])\n",
      "    sp.set_xlabel(\"frame step\")\n",
      "    sp.set_ylabel(\"#undefined\")\n",
      "    plt.show\n",
      "    \n",
      "for feature in features:\n",
      "    print feature\n",
      "    \n",
      "    session_means = {}\n",
      "    for session in sessions:\n",
      "        try:\n",
      "            print \"=\" * 30\n",
      "            print session.name\n",
      "            print \"\\n\" * 2\n",
      "            dfA, dfB, len_data = get_session_data_frame(session, feature, task_threshold=40)\n",
      "            meanA = dfA.mean(axis=1)\n",
      "            meanB = dfB.mean(axis=1)\n",
      "            \n",
      "            session_means[session.name + \" A\"] = meanA\n",
      "            session_means[session.name + \" B\"] = meanB\n",
      "            f, ax = plt.subplots(ncols=3)\n",
      "            \n",
      "            plot_window_info(dfA, meanA, \"Speaker A\", ax[0])\n",
      "            plot_window_info(dfB, meanB, \"Speaker B\", ax[1])\n",
      "            \n",
      "            sp = len_data.plot(title=\"Length of series\", style=\"o-\", legend=False, ax=ax[2])\n",
      "            len_mean = len_data.mean(axis=1)\n",
      "            len_mean.plot(style=\"r-\", linewidth=5.0, ax=ax[2])\n",
      "            print \"#points diff(FS 8s to 10s) = %.3f\" % (abs(len_mean[8] - len_mean[10])) \n",
      "    \n",
      "            sp.set_ylim([0, 30])\n",
      "            sp.set_xlabel(\"frame step\")\n",
      "            sp.set_ylabel(\"#num_plots\")\n",
      "            \n",
      "            plt.show()\n",
      "        except TypeError:\n",
      "            print \"Skipping %s\" % session.name\n",
      "            pass\n",
      "\n",
      "                    \n",
      "\n",
      "    "
     ],
     "language": "python",
     "metadata": {},
     "outputs": []
    },
    {
     "cell_type": "code",
     "collapsed": false,
     "input": [
      "meandf = pd.DataFrame(session_means).mean(axis=1)\n"
     ],
     "language": "python",
     "metadata": {},
     "outputs": []
    },
    {
     "cell_type": "code",
     "collapsed": false,
     "input": [
      "pylab.rcParams['figure.figsize'] = (5,4)\n",
      "sp = meandf.plot(style=\"ro-\")\n",
      "sp.set_ylim([0,8])\n",
      "sp.set_xlabel(\"frame step\")\n",
      "sp.set_ylabel(\"#undefined\")\n"
     ],
     "language": "python",
     "metadata": {},
     "outputs": []
    },
    {
     "cell_type": "heading",
     "level": 5,
     "metadata": {},
     "source": []
    }
   ],
   "metadata": {}
  }
 ]
}