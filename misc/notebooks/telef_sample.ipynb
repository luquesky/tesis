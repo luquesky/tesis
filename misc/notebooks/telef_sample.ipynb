{
 "cells": [
  {
   "cell_type": "code",
   "execution_count": 1,
   "metadata": {},
   "outputs": [],
   "source": [
    "%matplotlib inline\n",
    "%load_ext autoreload\n",
    "%autoreload 2\n",
    "from nbhelpers import add_source_path\n",
    "\n",
    "add_source_path(\"../../\")"
   ]
  },
  {
   "cell_type": "code",
   "execution_count": 2,
   "metadata": {},
   "outputs": [
    {
     "data": {
      "text/plain": [
       "[[0.02, 0.82] -> don,\n",
       " [2.11, 2.9] -> más,\n",
       " [5.08, 5.47] -> movistar,\n",
       " [5.47, 5.68] -> buenas,\n",
       " [5.68, 6.21] -> tardes,\n",
       " [6.26, 6.34] -> le,\n",
       " [6.34, 6.55] -> atiende,\n",
       " [6.55, 6.88] -> desde,\n",
       " [6.88, 7.37] -> toledo,\n",
       " [7.4, 7.67] -> dígame]"
      ]
     },
     "execution_count": 2,
     "metadata": {},
     "output_type": "execute_result"
    }
   ],
   "source": [
    "from games_entrainment import helpers\n",
    "import os\n",
    "\n",
    "words_path = os.path.abspath(\"../../data/tlf/Script09.ctm\")\n",
    "wav_path = os.path.abspath(\"../../data/tlf/Script09.wav\")\n",
    "\n",
    "word_intervals = helpers.get_ctm_word_intervals(words_path)\n",
    "\n",
    "word_intervals[:10]"
   ]
  },
  {
   "cell_type": "code",
   "execution_count": 3,
   "metadata": {
    "collapsed": true
   },
   "outputs": [],
   "source": [
    "import pydub\n",
    "from games_entrainment import helpers\n",
    "\n",
    "speechA = helpers.create_speech(\n",
    "    wav_path=wav_path,\n",
    "    word_intervals=word_intervals,\n",
    "    gender='m',\n",
    ")\n",
    "speechB = helpers.create_speech(\n",
    "    wav_path=wav_path,\n",
    "    word_intervals=word_intervals,\n",
    "    gender='m',\n",
    ")"
   ]
  },
  {
   "cell_type": "code",
   "execution_count": 5,
   "metadata": {},
   "outputs": [
    {
     "name": "stdout",
     "output_type": "stream",
     "text": [
      "F0_MEAN\n",
      "feature: F0_MEAN -- Entrainment from A -> B : 1.0 with lag 0 \n",
      "feature: F0_MEAN -- Entrainment from B -> A : 1.0 with lag 0 \n",
      "F0_MAX\n",
      "feature: F0_MAX -- Entrainment from A -> B : 1.0 with lag 0 \n",
      "feature: F0_MAX -- Entrainment from B -> A : 1.0 with lag 0 \n",
      "ENG_MAX\n",
      "feature: ENG_MAX -- Entrainment from A -> B : 1.0 with lag 0 \n",
      "feature: ENG_MAX -- Entrainment from B -> A : 1.0 with lag 0 \n",
      "ENG_MEAN\n",
      "feature: ENG_MEAN -- Entrainment from A -> B : 1.0 with lag 0 \n",
      "feature: ENG_MEAN -- Entrainment from B -> A : 1.0 with lag 0 \n",
      "NOISE_TO_HARMONICS_RATIO\n",
      "feature: NOISE_TO_HARMONICS_RATIO -- Entrainment from A -> B : 1.0 with lag 0 \n",
      "feature: NOISE_TO_HARMONICS_RATIO -- Entrainment from B -> A : 1.0 with lag 0 \n",
      "SOUND_ALL_LOCAL_JITTER\n",
      "feature: SOUND_ALL_LOCAL_JITTER -- Entrainment from A -> B : 1.0 with lag 0 \n",
      "feature: SOUND_ALL_LOCAL_JITTER -- Entrainment from B -> A : 1.0 with lag 0 \n",
      "SOUND_ALL_LOCAL_SHIMMER\n",
      "feature: SOUND_ALL_LOCAL_SHIMMER -- Entrainment from A -> B : 1.0 with lag 0 \n",
      "feature: SOUND_ALL_LOCAL_SHIMMER -- Entrainment from B -> A : 1.0 with lag 0 \n",
      "SOUND_VOICED_LOCAL_JITTER\n",
      "feature: SOUND_VOICED_LOCAL_JITTER -- Entrainment from A -> B : 1.0 with lag 0 \n",
      "feature: SOUND_VOICED_LOCAL_JITTER -- Entrainment from B -> A : 1.0 with lag 0 \n",
      "SOUND_VOICED_LOCAL_SHIMMER\n",
      "feature: SOUND_VOICED_LOCAL_SHIMMER -- Entrainment from A -> B : 1.0 with lag 0 \n",
      "feature: SOUND_VOICED_LOCAL_SHIMMER -- Entrainment from B -> A : 1.0 with lag 0 \n"
     ]
    }
   ],
   "source": [
    "from games_entrainment import features\n",
    "from games_entrainment.tsa import entrainment\n",
    "\n",
    "for feature in features:\n",
    "    print(feature)\n",
    "    A = B = helpers.create_tama(speechA, feature)\n",
    "    l_AB, E_AB, l_BA, E_BA = entrainment(A, B, lags=range(-6, 6))\n",
    "    \n",
    "    print (\"feature: {} -- Entrainment from A -> B : {} with lag {} \".format(feature, E_AB, l_AB))\n",
    "    print (\"feature: {} -- Entrainment from B -> A : {} with lag {} \".format(feature, E_BA, l_BA))\n",
    "    \n"
   ]
  },
  {
   "cell_type": "code",
   "execution_count": null,
   "metadata": {
    "collapsed": true
   },
   "outputs": [],
   "source": []
  }
 ],
 "metadata": {
  "kernelspec": {
   "display_name": "Python 2",
   "language": "python",
   "name": "python2"
  },
  "language_info": {
   "codemirror_mode": {
    "name": "ipython",
    "version": 2
   },
   "file_extension": ".py",
   "mimetype": "text/x-python",
   "name": "python",
   "nbconvert_exporter": "python",
   "pygments_lexer": "ipython2",
   "version": "2.7.12"
  }
 },
 "nbformat": 4,
 "nbformat_minor": 2
}
