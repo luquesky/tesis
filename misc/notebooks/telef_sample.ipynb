{
 "cells": [
  {
   "cell_type": "code",
   "execution_count": 1,
   "metadata": {
    "collapsed": true
   },
   "outputs": [],
   "source": [
    "%matplotlib inline\n",
    "%load_ext autoreload\n",
    "%autoreload 2\n",
    "from nbhelpers import add_source_path\n",
    "\n",
    "add_source_path(\"../../\")"
   ]
  },
  {
   "cell_type": "code",
   "execution_count": 9,
   "metadata": {},
   "outputs": [
    {
     "data": {
      "text/plain": [
       "[[0.02, 0.82] -> don,\n",
       " [2.11, 2.9] -> más,\n",
       " [5.08, 5.47] -> movistar,\n",
       " [5.47, 5.68] -> buenas,\n",
       " [5.68, 6.21] -> tardes,\n",
       " [6.26, 6.34] -> le,\n",
       " [6.34, 6.55] -> atiende,\n",
       " [6.55, 6.88] -> desde,\n",
       " [6.88, 7.37] -> toledo,\n",
       " [7.4, 7.67] -> dígame]"
      ]
     },
     "execution_count": 9,
     "metadata": {},
     "output_type": "execute_result"
    }
   ],
   "source": [
    "from games_entrainment import helpers\n",
    "\n",
    "wordS_path = \"../../data/telefonica/Script09.ctm\"\n",
    "wav_path = \"../../data/telefonica/Script09.wav\"\n",
    "\n",
    "word_intervals = helpers.get_ctm_word_intervals(wordS_path)\n",
    "\n",
    "word_intervals[:10]"
   ]
  },
  {
   "cell_type": "code",
   "execution_count": 11,
   "metadata": {},
   "outputs": [],
   "source": [
    "import pydub\n",
    "\n",
    "wav_file = pydub.AudioSegment.from_wav(wav_path)\n",
    "\n",
    "speech = helpers.create_speech(\n",
    "    wav_path=wav_path,\n",
    "    word_intervals=word_intervals,\n",
    "    gender='m',\n",
    ")"
   ]
  },
  {
   "cell_type": "code",
   "execution_count": null,
   "metadata": {
    "collapsed": true
   },
   "outputs": [],
   "source": []
  }
 ],
 "metadata": {
  "kernelspec": {
   "display_name": "Python 2",
   "language": "python",
   "name": "python2"
  },
  "language_info": {
   "codemirror_mode": {
    "name": "ipython",
    "version": 2
   },
   "file_extension": ".py",
   "mimetype": "text/x-python",
   "name": "python",
   "nbconvert_exporter": "python",
   "pygments_lexer": "ipython2",
   "version": "2.7.12"
  }
 },
 "nbformat": 4,
 "nbformat_minor": 2
}
