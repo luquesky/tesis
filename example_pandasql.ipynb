{
 "metadata": {
  "name": "",
  "signature": "sha256:c2cdea596aa691122c03f603c891873c62de3c387501496b08e4158acf62fd35"
 },
 "nbformat": 3,
 "nbformat_minor": 0,
 "worksheets": [
  {
   "cells": [
    {
     "cell_type": "markdown",
     "metadata": {},
     "source": [
      "# Pandasql\n",
      "\n",
      "Veamos como funciona pandasql...\n"
     ]
    },
    {
     "cell_type": "code",
     "collapsed": false,
     "input": [
      "%matplotlib inline\n",
      "import numpy as np\n",
      "import pandas as pd\n",
      "from pandasql import sqldf\n",
      "pysqldf = lambda q: sqldf(q, globals())\n",
      "\n",
      "df = pd.DataFrame({\n",
      "    \"id\": [1001, 1002, 1003],\n",
      "    \"first_name\": [\"John\", \"Robert\", \"John\"],\n",
      "    \"last_name\": [\"Foo\", \"Garcia\", \"Wayne\"],\n",
      "    \"age\" : [20, 39, 65]\n",
      "   })\n",
      "\n",
      "skills = pd.DataFrame({\n",
      "    'id': [1001, 1002, 1003, 1002],\n",
      "    'skill_name': [\"hipstering\", \"kung fu\", \"shooting\", \"karate\"]\n",
      "})"
     ],
     "language": "python",
     "metadata": {},
     "outputs": [],
     "prompt_number": 18
    },
    {
     "cell_type": "code",
     "collapsed": false,
     "input": [
      "pysqldf(\"SELECT * from df\")"
     ],
     "language": "python",
     "metadata": {},
     "outputs": [
      {
       "html": [
        "<div style=\"max-height:1000px;max-width:1500px;overflow:auto;\">\n",
        "<table border=\"1\" class=\"dataframe\">\n",
        "  <thead>\n",
        "    <tr style=\"text-align: right;\">\n",
        "      <th></th>\n",
        "      <th>age</th>\n",
        "      <th>first_name</th>\n",
        "      <th>id</th>\n",
        "      <th>last_name</th>\n",
        "    </tr>\n",
        "  </thead>\n",
        "  <tbody>\n",
        "    <tr>\n",
        "      <th>0</th>\n",
        "      <td> 20</td>\n",
        "      <td>   John</td>\n",
        "      <td> 1001</td>\n",
        "      <td>    Foo</td>\n",
        "    </tr>\n",
        "    <tr>\n",
        "      <th>1</th>\n",
        "      <td> 39</td>\n",
        "      <td> Robert</td>\n",
        "      <td> 1002</td>\n",
        "      <td> Garcia</td>\n",
        "    </tr>\n",
        "    <tr>\n",
        "      <th>2</th>\n",
        "      <td> 65</td>\n",
        "      <td>   John</td>\n",
        "      <td> 1003</td>\n",
        "      <td>  Wayne</td>\n",
        "    </tr>\n",
        "  </tbody>\n",
        "</table>\n",
        "</div>"
       ],
       "metadata": {},
       "output_type": "pyout",
       "prompt_number": 14,
       "text": [
        "   age first_name    id last_name\n",
        "0   20       John  1001       Foo\n",
        "1   39     Robert  1002    Garcia\n",
        "2   65       John  1003     Wayne"
       ]
      }
     ],
     "prompt_number": 14
    },
    {
     "cell_type": "code",
     "collapsed": false,
     "input": [
      "pysqldf(\"SELECT * from df where first_name='John'\")"
     ],
     "language": "python",
     "metadata": {},
     "outputs": [
      {
       "html": [
        "<div style=\"max-height:1000px;max-width:1500px;overflow:auto;\">\n",
        "<table border=\"1\" class=\"dataframe\">\n",
        "  <thead>\n",
        "    <tr style=\"text-align: right;\">\n",
        "      <th></th>\n",
        "      <th>age</th>\n",
        "      <th>first_name</th>\n",
        "      <th>id</th>\n",
        "      <th>last_name</th>\n",
        "    </tr>\n",
        "  </thead>\n",
        "  <tbody>\n",
        "    <tr>\n",
        "      <th>0</th>\n",
        "      <td> 20</td>\n",
        "      <td> John</td>\n",
        "      <td> 1001</td>\n",
        "      <td>   Foo</td>\n",
        "    </tr>\n",
        "    <tr>\n",
        "      <th>1</th>\n",
        "      <td> 65</td>\n",
        "      <td> John</td>\n",
        "      <td> 1003</td>\n",
        "      <td> Wayne</td>\n",
        "    </tr>\n",
        "  </tbody>\n",
        "</table>\n",
        "</div>"
       ],
       "metadata": {},
       "output_type": "pyout",
       "prompt_number": 15,
       "text": [
        "   age first_name    id last_name\n",
        "0   20       John  1001       Foo\n",
        "1   65       John  1003     Wayne"
       ]
      }
     ],
     "prompt_number": 15
    },
    {
     "cell_type": "code",
     "collapsed": false,
     "input": [
      "pysqldf(\"SELECT * from df where age < 40\")"
     ],
     "language": "python",
     "metadata": {},
     "outputs": [
      {
       "html": [
        "<div style=\"max-height:1000px;max-width:1500px;overflow:auto;\">\n",
        "<table border=\"1\" class=\"dataframe\">\n",
        "  <thead>\n",
        "    <tr style=\"text-align: right;\">\n",
        "      <th></th>\n",
        "      <th>age</th>\n",
        "      <th>first_name</th>\n",
        "      <th>id</th>\n",
        "      <th>last_name</th>\n",
        "    </tr>\n",
        "  </thead>\n",
        "  <tbody>\n",
        "    <tr>\n",
        "      <th>0</th>\n",
        "      <td> 20</td>\n",
        "      <td>   John</td>\n",
        "      <td> 1001</td>\n",
        "      <td>    Foo</td>\n",
        "    </tr>\n",
        "    <tr>\n",
        "      <th>1</th>\n",
        "      <td> 39</td>\n",
        "      <td> Robert</td>\n",
        "      <td> 1002</td>\n",
        "      <td> Garcia</td>\n",
        "    </tr>\n",
        "  </tbody>\n",
        "</table>\n",
        "</div>"
       ],
       "metadata": {},
       "output_type": "pyout",
       "prompt_number": 16,
       "text": [
        "   age first_name    id last_name\n",
        "0   20       John  1001       Foo\n",
        "1   39     Robert  1002    Garcia"
       ]
      }
     ],
     "prompt_number": 16
    },
    {
     "cell_type": "code",
     "collapsed": false,
     "input": [
      "pysqldf(\"SELECT * FROM df as users INNER JOIN skills as s ON users.id=s.id\")"
     ],
     "language": "python",
     "metadata": {},
     "outputs": [
      {
       "html": [
        "<div style=\"max-height:1000px;max-width:1500px;overflow:auto;\">\n",
        "<table border=\"1\" class=\"dataframe\">\n",
        "  <thead>\n",
        "    <tr style=\"text-align: right;\">\n",
        "      <th></th>\n",
        "      <th>age</th>\n",
        "      <th>first_name</th>\n",
        "      <th>id</th>\n",
        "      <th>last_name</th>\n",
        "      <th>id</th>\n",
        "      <th>skill_name</th>\n",
        "    </tr>\n",
        "  </thead>\n",
        "  <tbody>\n",
        "    <tr>\n",
        "      <th>0</th>\n",
        "      <td> 20</td>\n",
        "      <td>   John</td>\n",
        "      <td> 1001</td>\n",
        "      <td>    Foo</td>\n",
        "      <td> 1001</td>\n",
        "      <td> hipstering</td>\n",
        "    </tr>\n",
        "    <tr>\n",
        "      <th>1</th>\n",
        "      <td> 39</td>\n",
        "      <td> Robert</td>\n",
        "      <td> 1002</td>\n",
        "      <td> Garcia</td>\n",
        "      <td> 1002</td>\n",
        "      <td>    kung fu</td>\n",
        "    </tr>\n",
        "    <tr>\n",
        "      <th>2</th>\n",
        "      <td> 39</td>\n",
        "      <td> Robert</td>\n",
        "      <td> 1002</td>\n",
        "      <td> Garcia</td>\n",
        "      <td> 1002</td>\n",
        "      <td>     karate</td>\n",
        "    </tr>\n",
        "    <tr>\n",
        "      <th>3</th>\n",
        "      <td> 65</td>\n",
        "      <td>   John</td>\n",
        "      <td> 1003</td>\n",
        "      <td>  Wayne</td>\n",
        "      <td> 1003</td>\n",
        "      <td>   shooting</td>\n",
        "    </tr>\n",
        "  </tbody>\n",
        "</table>\n",
        "</div>"
       ],
       "metadata": {},
       "output_type": "pyout",
       "prompt_number": 28,
       "text": [
        "   age first_name    id last_name    id  skill_name\n",
        "0   20       John  1001       Foo  1001  hipstering\n",
        "1   39     Robert  1002    Garcia  1002     kung fu\n",
        "2   39     Robert  1002    Garcia  1002      karate\n",
        "3   65       John  1003     Wayne  1003    shooting"
       ]
      }
     ],
     "prompt_number": 28
    },
    {
     "cell_type": "code",
     "collapsed": false,
     "input": [],
     "language": "python",
     "metadata": {},
     "outputs": []
    }
   ],
   "metadata": {}
  }
 ]
}