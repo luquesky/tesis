{
 "metadata": {
  "name": "",
  "signature": "sha256:4dbaeb11a0fc7428859a5eb5157313845f102cbcd5d4f2ab3902c4d6d72738fc"
 },
 "nbformat": 3,
 "nbformat_minor": 0,
 "worksheets": [
  {
   "cells": [
    {
     "cell_type": "code",
     "collapsed": false,
     "input": [
      "%matplotlib inline\n"
     ],
     "language": "python",
     "metadata": {},
     "outputs": [],
     "prompt_number": 1
    },
    {
     "cell_type": "raw",
     "metadata": {},
     "source": [
      "Let's first get both speechs\n"
     ]
    },
    {
     "cell_type": "code",
     "collapsed": false,
     "input": [
      "from speech import SpeechBuilder\n",
      "\n",
      "speechA = SpeechBuilder(\"data/s10.objects.1.A.wav\").speech \n",
      "speechB = SpeechBuilder(\"data/s10.objects.1.B.wav\").speech"
     ],
     "language": "python",
     "metadata": {},
     "outputs": [],
     "prompt_number": 2
    },
    {
     "cell_type": "raw",
     "metadata": {},
     "source": [
      "Now, compare them"
     ]
    },
    {
     "cell_type": "code",
     "collapsed": false,
     "input": [
      "from commands import plot_tamas\n",
      "\n",
      "features = ['F0_STDV', 'VCD2TOT_FRAMES', 'F0_MEAN', 'F0_MAX', 'F0_MAS','ENG_STDV', 'ENG_MAX', \n",
      "            'ENG_MIN', 'ENG_MEAN', 'F0_MIN', 'F0_MEDIAN']\n",
      "\n",
      "for feature in features:\n",
      "    plot_tamas(speechA, speechB, feature)\n"
     ],
     "language": "python",
     "metadata": {},
     "outputs": [
      {
       "output_type": "stream",
       "stream": "stderr",
       "text": [
        "WARNING:main:Feature F0_STDV is nan in [222.9325, 223.347026]\n"
       ]
      },
      {
       "output_type": "stream",
       "stream": "stderr",
       "text": [
        "WARNING:main:Feature F0_STDV is nan in [1569.26651, 1569.42651]\n"
       ]
      },
      {
       "output_type": "stream",
       "stream": "stderr",
       "text": [
        "WARNING:main:Feature F0_STDV is nan in [1798.17, 1798.2325]\n"
       ]
      },
      {
       "output_type": "stream",
       "stream": "stderr",
       "text": [
        "WARNING:main:Feature F0_STDV is nan in [2109.3575, 2109.6325]\n"
       ]
      },
      {
       "output_type": "stream",
       "stream": "stderr",
       "text": [
        "WARNING:main:Feature F0_STDV is nan in [2223.155, 2223.3975]\n"
       ]
      }
     ]
    },
    {
     "cell_type": "code",
     "collapsed": false,
     "input": [],
     "language": "python",
     "metadata": {},
     "outputs": []
    }
   ],
   "metadata": {}
  }
 ]
}