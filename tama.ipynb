{
 "metadata": {
  "name": "",
  "signature": "sha256:520496ab1bfb5f4c4256aca1de84c23561b5ddb467e85b80886a9bf7e9c5fb27"
 },
 "nbformat": 3,
 "nbformat_minor": 0,
 "worksheets": [
  {
   "cells": [
    {
     "cell_type": "code",
     "collapsed": false,
     "input": [
      "%matplotlib inline\n"
     ],
     "language": "python",
     "metadata": {},
     "outputs": [],
     "prompt_number": 1
    },
    {
     "cell_type": "raw",
     "metadata": {},
     "source": [
      "Let's first build the session "
     ]
    },
    {
     "cell_type": "code",
     "collapsed": false,
     "input": [
      "from speech import SpeechBuilder\n",
      "from tama import tama, hybrid_tama\n",
      "from scipy.stats.stats import pearsonr\n",
      "from helpers import autocorrelation_coefficient\n",
      "from sympy import Interval\n",
      "import matplotlib.pyplot as plt\n",
      "import pandas as pd\n",
      "\n",
      "from session import SessionBuilder\n",
      "\n",
      "session = SessionBuilder(\"data/s10.objects.1.tasks\").session\n",
      "speechA = session.speechA \n",
      "speechB = session.speechB"
     ],
     "language": "python",
     "metadata": {},
     "outputs": [],
     "prompt_number": 2
    },
    {
     "cell_type": "raw",
     "metadata": {},
     "source": [
      "Extract some features:"
     ]
    },
    {
     "cell_type": "code",
     "collapsed": false,
     "input": [
      "speechA.get_features(Interval(0, 10))"
     ],
     "language": "python",
     "metadata": {},
     "outputs": [
      {
       "metadata": {},
       "output_type": "pyout",
       "prompt_number": 3,
       "text": [
        "{'ENG_MAX': 54.744,\n",
        " 'ENG_MEAN': 35.815,\n",
        " 'ENG_MIN': 28.975,\n",
        " 'ENG_STDV': 3.799,\n",
        " 'F0_MAS': 418.9,\n",
        " 'F0_MAX': 506.206,\n",
        " 'F0_MEAN': 426.517,\n",
        " 'F0_MEDIAN': 427.592,\n",
        " 'F0_MIN': 313.591,\n",
        " 'F0_STDV': 42.702,\n",
        " 'NOISE_TO_HARMONICS_RATIO': 0.432123,\n",
        " 'SECONDS': 10.0,\n",
        " 'SOUND_ALL_LOCAL_JITTER': 0.013822,\n",
        " 'SOUND_ALL_LOCAL_SHIMMER': 0.2286,\n",
        " 'SOUND_VOICED_LOCAL_JITTER': nan,\n",
        " 'SOUND_VOICED_LOCAL_SHIMMER': nan,\n",
        " 'VCD2TOT_FRAMES': 0.122}"
       ]
      }
     ]
    },
    {
     "cell_type": "raw",
     "metadata": {},
     "source": [
      "Now, compare them. Let's use interpolation first"
     ]
    },
    {
     "cell_type": "code",
     "collapsed": false,
     "input": [
      "features = ['VCD2TOT_FRAMES', 'F0_MEAN', 'F0_MAX', 'ENG_MAX', 'ENG_MEAN', \n",
      "            \"NOISE_TO_HARMONICS_RATIO\", \"SOUND_ALL_LOCAL_JITTER\", \"SOUND_ALL_LOCAL_SHIMMER\",\n",
      "            \"SOUND_VOICED_LOCAL_JITTER\", \"SOUND_VOICED_LOCAL_SHIMMER\"]\n",
      "\n",
      "interpolated_tamas= {\"A\": {}, \"B\": {}}\n",
      "non_interpolated_tamas = {\"A\": {}, \"B\": {} }\n",
      "\n",
      "for feature in features:\n",
      "    print \"Calculating %s\" % feature\n",
      "    interpolated_tamas[\"A\"][feature] = hybrid_tama(speechA, feature, interpolate=True)\n",
      "    interpolated_tamas[\"B\"][feature] = hybrid_tama(speechB, feature, interpolate=True)\n",
      "    \n",
      "    non_interpolated_tamas[\"A\"][feature] = hybrid_tama(speechA, feature, interpolate=False)\n",
      "    non_interpolated_tamas[\"B\"][feature] = hybrid_tama(speechB, feature, interpolate=False)\n"
     ],
     "language": "python",
     "metadata": {},
     "outputs": [
      {
       "output_type": "stream",
       "stream": "stderr",
       "text": [
        "ERROR:main:There was an error calling /home/jmperez/projects/tesis/scripts/voice-analysis.praat with interval [2313.700322, 2314.18]\n"
       ]
      },
      {
       "output_type": "stream",
       "stream": "stderr",
       "text": [
        "ERROR:main:There was an error calling /home/jmperez/projects/tesis/scripts/voice-analysis.praat with interval [2313.700322, 2314.18]\n"
       ]
      },
      {
       "output_type": "stream",
       "stream": "stdout",
       "text": [
        "Calculating VCD2TOT_FRAMES\n",
        "Calculating F0_MEAN"
       ]
      },
      {
       "output_type": "stream",
       "stream": "stdout",
       "text": [
        "\n",
        "Calculating F0_MAX"
       ]
      },
      {
       "output_type": "stream",
       "stream": "stdout",
       "text": [
        "\n",
        "Calculating ENG_MAX"
       ]
      },
      {
       "output_type": "stream",
       "stream": "stdout",
       "text": [
        "\n",
        "Calculating ENG_MEAN"
       ]
      }
     ]
    },
    {
     "cell_type": "code",
     "collapsed": false,
     "input": [
      "from commands.plot import plot_tamas\n",
      "\n",
      "for feature in features:\n",
      "    print(\"Tama for %s\" % (feature))\n",
      "    TA, averagesA = interpolated_tamas[\"A\"][feature]\n",
      "    TB, averagesB = interpolated_tamas[\"B\"][feature]\n",
      "    print(\"Interpolating\")\n",
      "    plot_tamas(feature, TA, averagesA, TB, averagesB)\n",
      "    print(\"Without interpolating\")\n",
      "    TA, averagesA = non_interpolated_tamas[\"A\"][feature]\n",
      "    TB, averagesB = non_interpolated_tamas[\"B\"][feature]\n",
      "    plot_tamas(feature, TA, averagesA, TB, averagesB)\n",
      "    "
     ],
     "language": "python",
     "metadata": {},
     "outputs": []
    },
    {
     "cell_type": "code",
     "collapsed": false,
     "input": [
      "correlations = {\"interpolated\": {}, \"not interpolated\": {}}\n",
      "\n",
      "for feature in features:\n",
      "    TA, averagesA = interpolated_tamas[\"A\"][feature]\n",
      "    TB, averagesB = interpolated_tamas[\"B\"][feature]\n",
      "    corr, p = pearsonr(averagesA, averagesB)\n",
      "    correlations[\"interpolated\"][feature] = corr\n",
      "    TA, averagesA = non_interpolated_tamas[\"A\"][feature]\n",
      "    TB, averagesB = non_interpolated_tamas[\"B\"][feature]\n",
      "    corr, p = pearsonr(averagesA, averagesB)\n",
      "    correlations[\"not interpolated\"][feature] = corr\n",
      "    \n",
      "    \n",
      "pd.DataFrame(correlations, index=features)"
     ],
     "language": "python",
     "metadata": {},
     "outputs": []
    },
    {
     "cell_type": "code",
     "collapsed": false,
     "input": [],
     "language": "python",
     "metadata": {},
     "outputs": []
    }
   ],
   "metadata": {}
  }
 ]
}