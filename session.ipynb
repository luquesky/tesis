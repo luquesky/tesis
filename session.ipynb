{
 "metadata": {
  "name": "",
  "signature": "sha256:6c6eedb170c4fbabb7c5c6dcf87dc1dca23622638952331312d59520972753b0"
 },
 "nbformat": 3,
 "nbformat_minor": 0,
 "worksheets": [
  {
   "cells": [
    {
     "cell_type": "raw",
     "metadata": {},
     "source": [
      "Let's build the session first. This should also create the tasks..."
     ]
    },
    {
     "cell_type": "code",
     "collapsed": false,
     "input": [
      "from session import SessionBuilder\n",
      "\n",
      "session = SessionBuilder(\"data/s10.objects.1.tasks\").session"
     ],
     "language": "python",
     "metadata": {},
     "outputs": [],
     "prompt_number": 1
    },
    {
     "cell_type": "raw",
     "metadata": {},
     "source": [
      "What do the tasks look like?"
     ]
    },
    {
     "cell_type": "code",
     "collapsed": false,
     "input": [
      "session.tasks"
     ],
     "language": "python",
     "metadata": {},
     "outputs": [
      {
       "metadata": {},
       "output_type": "pyout",
       "prompt_number": 2,
       "text": [
        "[[14.381927, 120.478197] Task: Images:yellowmermaid,mm,iron,onion,whale,bluemermaid,lime;Describer:A;Target:iron;Score:96;Time-used:109.437,\n",
        " [129.9625, 193.799004] Task: Images:yellowmermaid,mm,iron,onion,whale,bluemermaid,lime;Describer:A;Target:lime;Score:94;Time-used:88.587,\n",
        " [222.839235, 345.111624] Task: Images:yellowmermaid,mm,iron,onion,whale,bluemermaid,lime;Describer:A;Target:mm;Score:91;Time-used:138.520,\n",
        " [365.699309, 495.32] Task: Images:yellowmermaid,mm,iron,onion,whale,bluemermaid,lime;Describer:A;Target:onion;Score:99;Time-used:151.067,\n",
        " [523.7399, 657.945409] Task: Images:yellowlion,ear,mime,nail,bluelion,owl,lawnmower;Describer:B;Target:lawnmower;Score:97;Time-used:135.665,\n",
        " [664.027045, 730.789474] Task: Images:yellowlion,ear,mime,nail,bluelion,owl,lawnmower;Describer:B;Target:mime;Score:95;Time-used:70.171,\n",
        " [739.0725, 849.747197] Task: Images:yellowlion,ear,mime,nail,bluelion,owl,lawnmower;Describer:B;Target:owl;Score:96;Time-used:114.215,\n",
        " [857.480192, 1014.921817] Task: Images:yellowlion,ear,mime,nail,bluelion,owl,lawnmower;Describer:B;Target:yellowlion;Score:99;Time-used:160.751,\n",
        " [1026.993675, 1431.007297] Task: Images:eye,mirror,bluemoon,nun,ruler,lemon,yellowmoon;Describer:A;Target:yellowmoon;Score:91;Time-used:614.429,\n",
        " [1441.148315, 1647.39] Task: problems-with-game-application,\n",
        " [1648.6275, 2004.706632] Task: Images:eye,mirror,bluemoon,nun,ruler,lemon,yellowmoon;Describer:B;Target:eye;Score:96;Time-used:359.247,\n",
        " [2010.325666, 2114.361635] Task: Images:eye,mirror,bluemoon,nun,ruler,lemon,yellowmoon;Describer:A;Target:nun;Score:99;Time-used:108.265,\n",
        " [2122.052088, 2223.713234] Task: Images:eye,mirror,bluemoon,nun,ruler,lemon,yellowmoon;Describer:B;Target:bluemoon;Score:96;Time-used:104.750,\n",
        " [2230.080974, 2404.09] Task: Images:eye,mirror,bluemoon,nun,ruler,lemon,yellowmoon;Describer:A;Target:mirror;Score:99;Time-used:190.354,\n",
        " [2424.625988, 2533.082212] Task: Images:eye,mirror,bluemoon,nun,ruler,lemon,yellowmoon;Describer:B;Target:ruler;Score:88;Time-used:112.873]"
       ]
      }
     ],
     "prompt_number": 2
    },
    {
     "cell_type": "code",
     "collapsed": false,
     "input": [],
     "language": "python",
     "metadata": {},
     "outputs": []
    }
   ],
   "metadata": {}
  }
 ]
}