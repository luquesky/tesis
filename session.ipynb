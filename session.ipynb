{
 "metadata": {
  "name": "",
  "signature": "sha256:a5149dc5df736eff5feaaac286130ed9dd97ff56f0bf62c0d5cfcc1b74054806"
 },
 "nbformat": 3,
 "nbformat_minor": 0,
 "worksheets": [
  {
   "cells": [
    {
     "cell_type": "code",
     "collapsed": false,
     "input": [
      "%matplotlib inline"
     ],
     "language": "python",
     "metadata": {},
     "outputs": [],
     "prompt_number": 1
    },
    {
     "cell_type": "raw",
     "metadata": {},
     "source": [
      "Let's build the session first. This should also create the tasks..."
     ]
    },
    {
     "cell_type": "code",
     "collapsed": false,
     "input": [
      "from session import SessionMapper\n",
      "import config\n",
      "from tama import hybrid_tama\n",
      "from commands.plot import plot_tamas, plot_autocorrelations\n",
      "\n",
      "mapper = SessionMapper()\n",
      "\n",
      "sessions = []\n",
      "\n",
      "for i in range(1, 13):\n",
      "    num = str(i).zfill(2)\n",
      "    name = \"session-%s\" % num\n",
      "    tasks_path = \"data/games-corpus/session_%s/s%s.objects.1.tasks\" % (num, num)\n",
      "    sessions.append(mapper.fetch(tasks_path, name=name))\n",
      "\n",
      "for session in sessions:\n",
      "    print session.name"
     ],
     "language": "python",
     "metadata": {},
     "outputs": [
      {
       "output_type": "stream",
       "stream": "stderr",
       "text": [
        "Pickle not found. Building from scratch\n"
       ]
      },
      {
       "output_type": "stream",
       "stream": "stderr",
       "text": [
        "INFO:main:Pickle not found. Building from scratch\n"
       ]
      },
      {
       "output_type": "stream",
       "stream": "stderr",
       "text": [
        "Pickle not found. Building from scratch\n"
       ]
      },
      {
       "output_type": "stream",
       "stream": "stderr",
       "text": [
        "INFO:main:Pickle not found. Building from scratch\n"
       ]
      }
     ]
    },
    {
     "cell_type": "raw",
     "metadata": {},
     "source": [
      "Let's see their lengths\n"
     ]
    },
    {
     "cell_type": "code",
     "collapsed": false,
     "input": [
      "from scipy.stats.stats import pearsonr\n",
      "import pandas as pd\n",
      "\n",
      "for session in sessions:\n",
      "    session_data = {}\n",
      "    for index, task in enumerate(session.tasks):\n",
      "        task_name = \"Task %02d\" % index\n",
      "        if task.length > config.TASK_LENGTH_THRESHOLD:\n",
      "            session_data[task_name] = \"%.3f\" % task.length\n",
      "        else:\n",
      "            session_data[task_name] = \"--\"\n",
      "        \n",
      "    data[session.name] = session_data\n",
      "        \n",
      "        \n",
      "pd.DataFrame(data)"
     ],
     "language": "python",
     "metadata": {},
     "outputs": []
    },
    {
     "cell_type": "code",
     "collapsed": false,
     "input": [
      "for session in sessions:\n",
      "    mapper.save(session)"
     ],
     "language": "python",
     "metadata": {},
     "outputs": []
    },
    {
     "cell_type": "code",
     "collapsed": false,
     "input": [],
     "language": "python",
     "metadata": {},
     "outputs": []
    },
    {
     "cell_type": "code",
     "collapsed": false,
     "input": [],
     "language": "python",
     "metadata": {},
     "outputs": []
    }
   ],
   "metadata": {}
  }
 ]
}