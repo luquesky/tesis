{
 "metadata": {
  "name": "",
  "signature": "sha256:a4e24b41feb10fc846c7603f4dc5bf1adf0d096acabc349ad51e8591994c7f51"
 },
 "nbformat": 3,
 "nbformat_minor": 0,
 "worksheets": [
  {
   "cells": [
    {
     "cell_type": "raw",
     "metadata": {},
     "source": [
      "Let's build the session first. This should also create the tasks..."
     ]
    },
    {
     "cell_type": "code",
     "collapsed": false,
     "input": [
      "from session import SessionBuilder\n",
      "\n",
      "session = SessionBuilder(\"data/s10.objects.1.tasks\").session"
     ],
     "language": "python",
     "metadata": {},
     "outputs": [],
     "prompt_number": 1
    },
    {
     "cell_type": "raw",
     "metadata": {},
     "source": [
      "Let's compare them using TAMA for the first task\n"
     ]
    },
    {
     "cell_type": "code",
     "collapsed": false,
     "input": [
      "task = session.tasks[0]\n",
      "speechA = session.speechA\n",
      "speechB = session.speechB\n",
      "\n",
      "features = ['VCD2TOT_FRAMES', 'F0_MEAN', 'F0_MAX', 'ENG_MAX', 'ENG_MEAN', \n",
      "            \"NOISE_TO_HARMONICS_RATIO\", \"SOUND_ALL_LOCAL_JITTER\", \"SOUND_ALL_LOCAL_SHIMMER\",\n",
      "            \"SOUND_VOICED_LOCAL_JITTER\", \"SOUND_VOICED_LOCAL_SHIMMER\"]\n",
      "\n",
      "interpolated_tamas= {\"A\": {}, \"B\": {}}\n",
      "non_interpolated_tamas = {\"A\": {}, \"B\": {} }\n",
      "\n",
      "for feature in features:\n",
      "    print \"Calculating %s\" % feature\n",
      "    interpolated_tamas[\"A\"][feature] = hybrid_tama(speechA, feature, interpolate=True, interval=task.interval)\n",
      "    interpolated_tamas[\"B\"][feature] = hybrid_tama(speechB, feature, interpolate=True, interval=task.interval)\n",
      "    "
     ],
     "language": "python",
     "metadata": {},
     "outputs": []
    }
   ],
   "metadata": {}
  }
 ]
}