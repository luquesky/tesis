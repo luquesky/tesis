{
 "metadata": {
  "name": "",
  "signature": "sha256:0a10c58084482e61d77f27a2451262881b00be47b4514afa3d3a6792c430e97e"
 },
 "nbformat": 3,
 "nbformat_minor": 0,
 "worksheets": [
  {
   "cells": [
    {
     "cell_type": "code",
     "collapsed": false,
     "input": [
      "%matplotlib inline"
     ],
     "language": "python",
     "metadata": {},
     "outputs": [],
     "prompt_number": 1
    },
    {
     "cell_type": "raw",
     "metadata": {},
     "source": [
      "Let's build the session first. This should also create the tasks..."
     ]
    },
    {
     "cell_type": "code",
     "collapsed": false,
     "input": [
      "from session import SessionMapper\n",
      "import config\n",
      "from tama import hybrid_tama\n",
      "from commands.plot import plot_tamas, plot_autocorrelations\n",
      "\n",
      "mapper = SessionMapper()\n",
      "\n",
      "sessions = []\n",
      "\n",
      "for i in range(1, 13):\n",
      "    num = str(i).zfill(2)\n",
      "    name = \"session-%s\" % num\n",
      "    tasks_path = \"data/games-corpus/session_%s/s%s.objects.1.tasks\" % (num, num)\n",
      "    sessions.append(mapper.fetch(tasks_path, name=name))\n",
      "\n",
      "for session in sessions:\n",
      "    print session.name"
     ],
     "language": "python",
     "metadata": {},
     "outputs": [
      {
       "output_type": "stream",
       "stream": "stderr",
       "text": [
        "Pickle not found. Building from scratch\n"
       ]
      },
      {
       "output_type": "stream",
       "stream": "stderr",
       "text": [
        "INFO:main:Pickle not found. Building from scratch\n"
       ]
      },
      {
       "output_type": "stream",
       "stream": "stderr",
       "text": [
        "Pickle not found. Building from scratch\n"
       ]
      },
      {
       "output_type": "stream",
       "stream": "stderr",
       "text": [
        "INFO:main:Pickle not found. Building from scratch\n"
       ]
      },
      {
       "output_type": "stream",
       "stream": "stderr",
       "text": [
        "Pickle not found. Building from scratch\n"
       ]
      },
      {
       "output_type": "stream",
       "stream": "stderr",
       "text": [
        "INFO:main:Pickle not found. Building from scratch\n"
       ]
      },
      {
       "output_type": "stream",
       "stream": "stderr",
       "text": [
        "Pickle not found. Building from scratch\n"
       ]
      },
      {
       "output_type": "stream",
       "stream": "stderr",
       "text": [
        "INFO:main:Pickle not found. Building from scratch\n"
       ]
      },
      {
       "output_type": "stream",
       "stream": "stderr",
       "text": [
        "Pickle not found. Building from scratch\n"
       ]
      },
      {
       "output_type": "stream",
       "stream": "stderr",
       "text": [
        "INFO:main:Pickle not found. Building from scratch\n"
       ]
      },
      {
       "output_type": "stream",
       "stream": "stderr",
       "text": [
        "Pickle not found. Building from scratch\n"
       ]
      },
      {
       "output_type": "stream",
       "stream": "stderr",
       "text": [
        "INFO:main:Pickle not found. Building from scratch\n"
       ]
      },
      {
       "output_type": "stream",
       "stream": "stderr",
       "text": [
        "Pickle not found. Building from scratch\n"
       ]
      },
      {
       "output_type": "stream",
       "stream": "stderr",
       "text": [
        "INFO:main:Pickle not found. Building from scratch\n"
       ]
      },
      {
       "output_type": "stream",
       "stream": "stderr",
       "text": [
        "Pickle not found. Building from scratch\n"
       ]
      },
      {
       "output_type": "stream",
       "stream": "stderr",
       "text": [
        "INFO:main:Pickle not found. Building from scratch\n"
       ]
      },
      {
       "output_type": "stream",
       "stream": "stderr",
       "text": [
        "Pickle not found. Building from scratch\n"
       ]
      },
      {
       "output_type": "stream",
       "stream": "stderr",
       "text": [
        "INFO:main:Pickle not found. Building from scratch\n"
       ]
      },
      {
       "output_type": "stream",
       "stream": "stderr",
       "text": [
        "Pickle not found. Building from scratch\n"
       ]
      },
      {
       "output_type": "stream",
       "stream": "stderr",
       "text": [
        "INFO:main:Pickle not found. Building from scratch\n"
       ]
      },
      {
       "output_type": "stream",
       "stream": "stderr",
       "text": [
        "Pickle not found. Building from scratch\n"
       ]
      },
      {
       "output_type": "stream",
       "stream": "stderr",
       "text": [
        "INFO:main:Pickle not found. Building from scratch\n"
       ]
      },
      {
       "output_type": "stream",
       "stream": "stderr",
       "text": [
        "Pickle not found. Building from scratch\n"
       ]
      },
      {
       "output_type": "stream",
       "stream": "stderr",
       "text": [
        "INFO:main:Pickle not found. Building from scratch\n"
       ]
      },
      {
       "output_type": "stream",
       "stream": "stdout",
       "text": [
        "session-01\n",
        "session-02\n",
        "session-03\n",
        "session-04\n",
        "session-05\n",
        "session-06\n",
        "session-07\n",
        "session-08\n",
        "session-09\n",
        "session-10\n",
        "session-11\n",
        "session-12\n"
       ]
      }
     ],
     "prompt_number": 2
    },
    {
     "cell_type": "raw",
     "metadata": {},
     "source": [
      "Let's see their lengths\n"
     ]
    },
    {
     "cell_type": "code",
     "collapsed": false,
     "input": [
      "from scipy.stats.stats import pearsonr\n",
      "import pandas as pd\n",
      "\n",
      "data = {}\n",
      "\n",
      "threshold = 120\n",
      "\n",
      "for session in sessions:\n",
      "    session_data = {}\n",
      "    for index, task in enumerate(session.tasks):\n",
      "        task_name = \"Task %02d\" % index\n",
      "        if task.length > config.TASK_LENGTH_THRESHOLD:\n",
      "            session_data[task_name] = \"%.3f\" % task.length\n",
      "        else:\n",
      "            session_data[task_name] = \"--\"\n",
      "        \n",
      "    data[session.name] = session_data\n",
      "        \n",
      "        \n",
      "pd.DataFrame(data)"
     ],
     "language": "python",
     "metadata": {},
     "outputs": [
      {
       "html": [
        "<div style=\"max-height:1000px;max-width:1500px;overflow:auto;\">\n",
        "<table border=\"1\" class=\"dataframe\">\n",
        "  <thead>\n",
        "    <tr style=\"text-align: right;\">\n",
        "      <th></th>\n",
        "      <th>session-01</th>\n",
        "      <th>session-02</th>\n",
        "      <th>session-03</th>\n",
        "      <th>session-04</th>\n",
        "      <th>session-05</th>\n",
        "      <th>session-06</th>\n",
        "      <th>session-07</th>\n",
        "      <th>session-08</th>\n",
        "      <th>session-09</th>\n",
        "      <th>session-10</th>\n",
        "      <th>session-11</th>\n",
        "      <th>session-12</th>\n",
        "    </tr>\n",
        "  </thead>\n",
        "  <tbody>\n",
        "    <tr>\n",
        "      <th>Task 00</th>\n",
        "      <td> --</td>\n",
        "      <td>      --</td>\n",
        "      <td> 149.888</td>\n",
        "      <td>      --</td>\n",
        "      <td>      --</td>\n",
        "      <td>      --</td>\n",
        "      <td>      --</td>\n",
        "      <td>      --</td>\n",
        "      <td> --</td>\n",
        "      <td> 106.096</td>\n",
        "      <td> --</td>\n",
        "      <td>      --</td>\n",
        "    </tr>\n",
        "    <tr>\n",
        "      <th>Task 01</th>\n",
        "      <td> --</td>\n",
        "      <td>      --</td>\n",
        "      <td>      --</td>\n",
        "      <td>      --</td>\n",
        "      <td>      --</td>\n",
        "      <td>      --</td>\n",
        "      <td>      --</td>\n",
        "      <td>      --</td>\n",
        "      <td> --</td>\n",
        "      <td>      --</td>\n",
        "      <td> --</td>\n",
        "      <td>      --</td>\n",
        "    </tr>\n",
        "    <tr>\n",
        "      <th>Task 02</th>\n",
        "      <td> --</td>\n",
        "      <td>      --</td>\n",
        "      <td>      --</td>\n",
        "      <td>      --</td>\n",
        "      <td>      --</td>\n",
        "      <td>      --</td>\n",
        "      <td>      --</td>\n",
        "      <td>      --</td>\n",
        "      <td> --</td>\n",
        "      <td> 122.272</td>\n",
        "      <td> --</td>\n",
        "      <td>      --</td>\n",
        "    </tr>\n",
        "    <tr>\n",
        "      <th>Task 03</th>\n",
        "      <td> --</td>\n",
        "      <td> 187.201</td>\n",
        "      <td>      --</td>\n",
        "      <td>      --</td>\n",
        "      <td>      --</td>\n",
        "      <td>      --</td>\n",
        "      <td>      --</td>\n",
        "      <td>      --</td>\n",
        "      <td> --</td>\n",
        "      <td> 129.621</td>\n",
        "      <td> --</td>\n",
        "      <td>      --</td>\n",
        "    </tr>\n",
        "    <tr>\n",
        "      <th>Task 04</th>\n",
        "      <td> --</td>\n",
        "      <td>      --</td>\n",
        "      <td>      --</td>\n",
        "      <td>      --</td>\n",
        "      <td>      --</td>\n",
        "      <td> 126.759</td>\n",
        "      <td> 145.849</td>\n",
        "      <td>      --</td>\n",
        "      <td> --</td>\n",
        "      <td> 134.206</td>\n",
        "      <td> --</td>\n",
        "      <td>      --</td>\n",
        "    </tr>\n",
        "    <tr>\n",
        "      <th>Task 05</th>\n",
        "      <td> --</td>\n",
        "      <td>      --</td>\n",
        "      <td>      --</td>\n",
        "      <td>      --</td>\n",
        "      <td>      --</td>\n",
        "      <td> 148.218</td>\n",
        "      <td>      --</td>\n",
        "      <td>      --</td>\n",
        "      <td> --</td>\n",
        "      <td>      --</td>\n",
        "      <td> --</td>\n",
        "      <td>      --</td>\n",
        "    </tr>\n",
        "    <tr>\n",
        "      <th>Task 06</th>\n",
        "      <td> --</td>\n",
        "      <td>      --</td>\n",
        "      <td>      --</td>\n",
        "      <td> 117.762</td>\n",
        "      <td>      --</td>\n",
        "      <td>      --</td>\n",
        "      <td>      --</td>\n",
        "      <td>      --</td>\n",
        "      <td> --</td>\n",
        "      <td> 110.675</td>\n",
        "      <td> --</td>\n",
        "      <td>      --</td>\n",
        "    </tr>\n",
        "    <tr>\n",
        "      <th>Task 07</th>\n",
        "      <td> --</td>\n",
        "      <td> 458.885</td>\n",
        "      <td>      --</td>\n",
        "      <td> 203.867</td>\n",
        "      <td>      --</td>\n",
        "      <td> 188.708</td>\n",
        "      <td>      --</td>\n",
        "      <td>      --</td>\n",
        "      <td> --</td>\n",
        "      <td> 157.442</td>\n",
        "      <td> --</td>\n",
        "      <td>      --</td>\n",
        "    </tr>\n",
        "    <tr>\n",
        "      <th>Task 08</th>\n",
        "      <td> --</td>\n",
        "      <td>      --</td>\n",
        "      <td>      --</td>\n",
        "      <td>      --</td>\n",
        "      <td> 134.247</td>\n",
        "      <td>      --</td>\n",
        "      <td> 108.786</td>\n",
        "      <td>      --</td>\n",
        "      <td> --</td>\n",
        "      <td> 404.014</td>\n",
        "      <td> --</td>\n",
        "      <td>      --</td>\n",
        "    </tr>\n",
        "    <tr>\n",
        "      <th>Task 09</th>\n",
        "      <td> --</td>\n",
        "      <td> 231.392</td>\n",
        "      <td> 162.895</td>\n",
        "      <td> 242.588</td>\n",
        "      <td>      --</td>\n",
        "      <td> 122.408</td>\n",
        "      <td>      --</td>\n",
        "      <td>      --</td>\n",
        "      <td> --</td>\n",
        "      <td> 356.079</td>\n",
        "      <td> --</td>\n",
        "      <td>      --</td>\n",
        "    </tr>\n",
        "    <tr>\n",
        "      <th>Task 10</th>\n",
        "      <td> --</td>\n",
        "      <td>      --</td>\n",
        "      <td>      --</td>\n",
        "      <td>      --</td>\n",
        "      <td>      --</td>\n",
        "      <td>      --</td>\n",
        "      <td>      --</td>\n",
        "      <td>      --</td>\n",
        "      <td> --</td>\n",
        "      <td> 104.036</td>\n",
        "      <td> --</td>\n",
        "      <td> 101.970</td>\n",
        "    </tr>\n",
        "    <tr>\n",
        "      <th>Task 11</th>\n",
        "      <td> --</td>\n",
        "      <td>      --</td>\n",
        "      <td> 129.129</td>\n",
        "      <td> 182.917</td>\n",
        "      <td>      --</td>\n",
        "      <td> 130.375</td>\n",
        "      <td>      --</td>\n",
        "      <td>      --</td>\n",
        "      <td> --</td>\n",
        "      <td> 101.661</td>\n",
        "      <td> --</td>\n",
        "      <td>      --</td>\n",
        "    </tr>\n",
        "    <tr>\n",
        "      <th>Task 12</th>\n",
        "      <td> --</td>\n",
        "      <td> 124.095</td>\n",
        "      <td> 108.196</td>\n",
        "      <td> 144.193</td>\n",
        "      <td> 114.720</td>\n",
        "      <td>      --</td>\n",
        "      <td>      --</td>\n",
        "      <td>      --</td>\n",
        "      <td> --</td>\n",
        "      <td> 174.009</td>\n",
        "      <td> --</td>\n",
        "      <td>      --</td>\n",
        "    </tr>\n",
        "    <tr>\n",
        "      <th>Task 13</th>\n",
        "      <td> --</td>\n",
        "      <td>      --</td>\n",
        "      <td>      --</td>\n",
        "      <td>      --</td>\n",
        "      <td> 107.356</td>\n",
        "      <td>      --</td>\n",
        "      <td>      --</td>\n",
        "      <td> 144.378</td>\n",
        "      <td> --</td>\n",
        "      <td> 108.456</td>\n",
        "      <td> --</td>\n",
        "      <td>      --</td>\n",
        "    </tr>\n",
        "  </tbody>\n",
        "</table>\n",
        "</div>"
       ],
       "metadata": {},
       "output_type": "pyout",
       "prompt_number": 3,
       "text": [
        "        session-01 session-02 session-03 session-04 session-05 session-06  \\\n",
        "Task 00         --         --    149.888         --         --         --   \n",
        "Task 01         --         --         --         --         --         --   \n",
        "Task 02         --         --         --         --         --         --   \n",
        "Task 03         --    187.201         --         --         --         --   \n",
        "Task 04         --         --         --         --         --    126.759   \n",
        "Task 05         --         --         --         --         --    148.218   \n",
        "Task 06         --         --         --    117.762         --         --   \n",
        "Task 07         --    458.885         --    203.867         --    188.708   \n",
        "Task 08         --         --         --         --    134.247         --   \n",
        "Task 09         --    231.392    162.895    242.588         --    122.408   \n",
        "Task 10         --         --         --         --         --         --   \n",
        "Task 11         --         --    129.129    182.917         --    130.375   \n",
        "Task 12         --    124.095    108.196    144.193    114.720         --   \n",
        "Task 13         --         --         --         --    107.356         --   \n",
        "\n",
        "        session-07 session-08 session-09 session-10 session-11 session-12  \n",
        "Task 00         --         --         --    106.096         --         --  \n",
        "Task 01         --         --         --         --         --         --  \n",
        "Task 02         --         --         --    122.272         --         --  \n",
        "Task 03         --         --         --    129.621         --         --  \n",
        "Task 04    145.849         --         --    134.206         --         --  \n",
        "Task 05         --         --         --         --         --         --  \n",
        "Task 06         --         --         --    110.675         --         --  \n",
        "Task 07         --         --         --    157.442         --         --  \n",
        "Task 08    108.786         --         --    404.014         --         --  \n",
        "Task 09         --         --         --    356.079         --         --  \n",
        "Task 10         --         --         --    104.036         --    101.970  \n",
        "Task 11         --         --         --    101.661         --         --  \n",
        "Task 12         --         --         --    174.009         --         --  \n",
        "Task 13         --    144.378         --    108.456         --         --  "
       ]
      }
     ],
     "prompt_number": 3
    },
    {
     "cell_type": "code",
     "collapsed": false,
     "input": [
      "for session in sessions:\n",
      "    mapper.save(session)"
     ],
     "language": "python",
     "metadata": {},
     "outputs": [],
     "prompt_number": 4
    },
    {
     "cell_type": "code",
     "collapsed": false,
     "input": [],
     "language": "python",
     "metadata": {},
     "outputs": []
    },
    {
     "cell_type": "code",
     "collapsed": false,
     "input": [],
     "language": "python",
     "metadata": {},
     "outputs": []
    }
   ],
   "metadata": {}
  }
 ]
}